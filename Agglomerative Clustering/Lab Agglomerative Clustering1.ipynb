{
 "cells": [
  {
   "cell_type": "code",
   "execution_count": 1,
   "metadata": {},
   "outputs": [
    {
     "name": "stderr",
     "output_type": "stream",
     "text": [
      "C:\\Users\\BHUMIKA\\anaconda3\\lib\\site-packages\\sklearn\\utils\\deprecation.py:144: FutureWarning: The sklearn.datasets.samples_generator module is  deprecated in version 0.22 and will be removed in version 0.24. The corresponding classes / functions should instead be imported from sklearn.datasets. Anything that cannot be imported from sklearn.datasets is now part of the private API.\n",
      "  warnings.warn(message, FutureWarning)\n"
     ]
    }
   ],
   "source": [
    "import numpy as np \n",
    "import pandas as pd\n",
    "from scipy import ndimage \n",
    "from scipy.cluster import hierarchy \n",
    "from scipy.spatial import distance_matrix \n",
    "from matplotlib import pyplot as plt \n",
    "from sklearn import manifold, datasets \n",
    "from sklearn.cluster import AgglomerativeClustering \n",
    "from sklearn.datasets.samples_generator import make_blobs \n",
    "%matplotlib inline"
   ]
  },
  {
   "cell_type": "markdown",
   "metadata": {},
   "source": [
    "Generating Random Data\n",
    "We will be generating a set of data using the make_blobs class.\n",
    "\n",
    "Input these parameters into make_blobs:\n",
    "n_samples: The total number of points equally divided among clusters.\n",
    "Choose a number from 10-1500\n",
    "centers: The number of centers to generate, or the fixed center locations.\n",
    "Choose arrays of x,y coordinates for generating the centers. Have 1-10 centers (ex. centers=[[1,1], [2,5]])\n",
    "cluster_std: The standard deviation of the clusters. The larger the number, the further apart the clusters\n",
    "Choose a number between 0.5-1.5\n",
    "\n",
    "Save the result to X1 and y1."
   ]
  },
  {
   "cell_type": "code",
   "execution_count": 2,
   "metadata": {},
   "outputs": [],
   "source": [
    "X1, y1 = make_blobs(n_samples=50, centers=[[4,4], [-2, -1], [1, 1], [10,4]], cluster_std=0.9)"
   ]
  },
  {
   "cell_type": "markdown",
   "metadata": {},
   "source": [
    "Plot the scatter plot of the randomly generated data"
   ]
  },
  {
   "cell_type": "code",
   "execution_count": 3,
   "metadata": {},
   "outputs": [
    {
     "data": {
      "text/plain": [
       "<matplotlib.collections.PathCollection at 0x1325e2a2308>"
      ]
     },
     "execution_count": 3,
     "metadata": {},
     "output_type": "execute_result"
    },
    {
     "data": {
      "image/png": "[encoded data removed]",
      "text/plain": [
       "<Figure size 432x288 with 1 Axes>"
      ]
     },
     "metadata": {
      "needs_background": "light"
     },
     "output_type": "display_data"
    }
   ],
   "source": [
    "plt.scatter(X1[:, 0], X1[:, 1], marker='o') "
   ]
  },
  {
   "cell_type": "code",
   "execution_count": 4,
   "metadata": {},
   "outputs": [
    {
     "data": {
      "text/plain": [
       "array([[-1.88081418e+00, -8.39056498e-01],\n",
       "       [ 7.17416049e+00,  2.61994523e+00],\n",
       "       [ 4.65109895e+00,  4.42448922e+00],\n",
       "       [ 9.50886780e+00,  4.00014490e+00],\n",
       "       [-1.09396062e+00, -1.87177963e+00],\n",
       "       [ 4.07970026e+00,  4.99965201e+00],\n",
       "       [-2.40169684e+00, -1.85442509e+00],\n",
       "       [ 1.04661412e+01,  4.46554174e+00],\n",
       "       [ 9.05243710e-01,  3.70643653e-01],\n",
       "       [ 2.81223490e+00,  3.99792855e+00],\n",
       "       [ 8.72760235e-01,  1.63666224e+00],\n",
       "       [ 6.62847512e-01,  2.36799385e+00],\n",
       "       [ 4.11058651e+00,  3.13615788e+00],\n",
       "       [ 1.76241028e+00,  4.64013158e+00],\n",
       "       [ 3.24952920e+00,  3.17015097e+00],\n",
       "       [ 5.53129944e+00,  3.15861777e+00],\n",
       "       [-2.39491437e+00, -1.84472817e+00],\n",
       "       [-2.00809020e+00, -2.22610945e+00],\n",
       "       [ 3.68503468e+00,  3.52276229e+00],\n",
       "       [-5.35108768e-02,  5.09850009e-01],\n",
       "       [ 6.12453613e-01, -1.17603848e-02],\n",
       "       [ 1.09715466e+01,  3.77712696e+00],\n",
       "       [ 9.14697241e+00,  3.30629584e+00],\n",
       "       [ 1.26115298e+01,  3.10831846e+00],\n",
       "       [ 1.11488541e+01,  3.51890067e+00],\n",
       "       [ 9.06794961e+00,  3.20013541e+00],\n",
       "       [ 9.78419385e+00,  3.60443259e+00],\n",
       "       [-1.41059612e+00, -7.79025361e-01],\n",
       "       [ 4.57926828e-01,  1.01371485e+00],\n",
       "       [ 4.38018219e+00,  4.74543714e+00],\n",
       "       [-2.40019597e-02, -3.91483090e-01],\n",
       "       [ 9.98437477e+00,  5.42880793e+00],\n",
       "       [-2.53319181e+00, -6.02558294e-01],\n",
       "       [ 7.65031024e-01,  1.31330718e+00],\n",
       "       [ 4.46963381e+00,  4.54260410e+00],\n",
       "       [-5.66501144e-01,  4.56120824e-01],\n",
       "       [-1.17106241e-02, -3.26426730e-01],\n",
       "       [ 8.24291711e+00,  3.53694564e+00],\n",
       "       [ 1.14992392e+00,  6.90926335e-01],\n",
       "       [ 1.93092424e+00,  9.67738725e-01],\n",
       "       [ 1.81427310e+00,  2.76289020e+00],\n",
       "       [ 5.01947833e+00,  4.38621407e+00],\n",
       "       [-2.05598626e+00, -2.08294756e+00],\n",
       "       [-1.85536634e+00, -3.01993875e+00],\n",
       "       [-1.71393543e+00, -9.21588563e-01],\n",
       "       [ 9.54910204e+00,  4.78003909e+00],\n",
       "       [-2.61963024e+00, -1.44910744e+00],\n",
       "       [ 3.80932687e+00,  5.60165239e+00],\n",
       "       [ 1.08687663e+00,  1.92776194e+00],\n",
       "       [ 9.02781884e+00,  4.60391766e+00]])"
      ]
     },
     "execution_count": 4,
     "metadata": {},
     "output_type": "execute_result"
    }
   ],
   "source": [
    "X1"
   ]
  },
  {
   "cell_type": "code",
   "execution_count": 6,
   "metadata": {},
   "outputs": [
    {
     "data": {
      "text/plain": [
       "array([1, 0, 0, 3, 1, 0, 1, 3, 2, 0, 2, 2, 0, 0, 0, 0, 1, 1, 0, 2, 2, 3,\n",
       "       3, 3, 3, 3, 3, 1, 2, 0, 2, 3, 1, 2, 0, 1, 1, 3, 2, 2, 2, 0, 1, 1,\n",
       "       1, 3, 1, 0, 2, 3])"
      ]
     },
     "execution_count": 6,
     "metadata": {},
     "output_type": "execute_result"
    }
   ],
   "source": [
    "y1"
   ]
  },
  {
   "cell_type": "markdown",
   "metadata": {},
   "source": [
    "Agglomerative Clustering\n",
    "We will start by clustering the random data points we just created.\n",
    "\n",
    "The Agglomerative Clustering class will require two inputs:\n",
    "\n",
    "n_clusters: The number of clusters to form as well as the number of centroids to generate.\n",
    "Value will be: 4\n",
    "linkage: Which linkage criterion to use. The linkage criterion determines which distance to use between sets of observation. The algorithm will merge the pairs of cluster that minimize this criterion.\n",
    "Value will be: 'complete'\n",
    "Note: It is recommended you try everything with 'average' as well\n",
    "\n",
    "Save the result to a variable called agglom"
   ]
  },
  {
   "cell_type": "code",
   "execution_count": 7,
   "metadata": {},
   "outputs": [],
   "source": [
    "agglom = AgglomerativeClustering(n_clusters = 4, linkage = 'average')"
   ]
  },
  {
   "cell_type": "code",
   "execution_count": 8,
   "metadata": {},
   "outputs": [
    {
     "data": {
      "text/plain": [
       "AgglomerativeClustering(affinity='euclidean', compute_full_tree='auto',\n",
       "                        connectivity=None, distance_threshold=None,\n",
       "                        linkage='average', memory=None, n_clusters=4)"
      ]
     },
     "execution_count": 8,
     "metadata": {},
     "output_type": "execute_result"
    }
   ],
   "source": [
    "agglom.fit(X1,y1)"
   ]
  },
  {
   "cell_type": "code",
   "execution_count": 9,
   "metadata": {},
   "outputs": [
    {
     "data": {
      "image/png": "[encoded data removed]",
      "text/plain": [
       "<Figure size 432x288 with 1 Axes>"
      ]
     },
     "metadata": {},
     "output_type": "display_data"
    }
   ],
   "source": [
    "# Create a figure of size 6 inches by 4 inches.\n",
    "plt.figure(figsize=(6,4))\n",
    "\n",
    "# These two lines of code are used to scale the data points down,\n",
    "# Or else the data points will be scattered very far apart.\n",
    "\n",
    "# Create a minimum and maximum range of X1.\n",
    "x_min, x_max = np.min(X1, axis=0), np.max(X1, axis=0)\n",
    "\n",
    "# Get the average distance for X1.\n",
    "X1 = (X1 - x_min) / (x_max - x_min)\n",
    "\n",
    "# This loop displays all of the datapoints.\n",
    "for i in range(X1.shape[0]):\n",
    "    # Replace the data points with their respective cluster value \n",
    "    # (ex. 0) and is color coded with a colormap (plt.cm.spectral)\n",
    "    plt.text(X1[i, 0], X1[i, 1], str(y1[i]),\n",
    "             color=plt.cm.nipy_spectral(agglom.labels_[i] / 10.),\n",
    "             fontdict={'weight': 'bold', 'size': 9})\n",
    "    \n",
    "# Remove the x ticks, y ticks, x and y axis\n",
    "plt.xticks([])\n",
    "plt.yticks([])\n",
    "#plt.axis('off')\n",
    "\n",
    "\n",
    "\n",
    "# Display the plot of the original data before clustering\n",
    "plt.scatter(X1[:, 0], X1[:, 1], marker='.')\n",
    "# Display the plot\n",
    "plt.show()"
   ]
  },
  {
   "cell_type": "code",
   "execution_count": 14,
   "metadata": {},
   "outputs": [
    {
     "name": "stdout",
     "output_type": "stream",
     "text": [
      "[[0.         0.71721503 0.74607867 ... 0.8352491  0.37543563 0.95473204]\n",
      " [0.71721503 0.         0.26692514 ... 0.4103794  0.40764408 0.26031716]\n",
      " [0.74607867 0.26692514 0.         ... 0.14729778 0.37232034 0.28810567]\n",
      " ...\n",
      " [0.8352491  0.4103794  0.14729778 ... 0.         0.46209604 0.36163574]\n",
      " [0.37543563 0.40764408 0.37232034 ... 0.46209604 0.         0.60676774]\n",
      " [0.95473204 0.26031716 0.28810567 ... 0.36163574 0.60676774 0.        ]]\n"
     ]
    }
   ],
   "source": [
    "dist_matrix = distance_matrix(X1,X1) \n",
    "print(dist_matrix)"
   ]
  },
  {
   "cell_type": "code",
   "execution_count": 15,
   "metadata": {},
   "outputs": [
    {
     "name": "stderr",
     "output_type": "stream",
     "text": [
      "C:\\Users\\BHUMIKA\\anaconda3\\lib\\site-packages\\ipykernel_launcher.py:1: ClusterWarning: scipy.cluster: The symmetric non-negative hollow observation matrix looks suspiciously like an uncondensed distance matrix\n",
      "  \"\"\"Entry point for launching an IPython kernel.\n"
     ]
    }
   ],
   "source": [
    "Z = hierarchy.linkage(dist_matrix, 'complete')"
   ]
  },
  {
   "cell_type": "code",
   "execution_count": 16,
   "metadata": {},
   "outputs": [
    {
     "data": {
      "image/png": "[encoded data removed]",
      "text/plain": [
       "<Figure size 432x288 with 1 Axes>"
      ]
     },
     "metadata": {
      "needs_background": "light"
     },
     "output_type": "display_data"
    }
   ],
   "source": [
    "dendro = hierarchy.dendrogram(Z)"
   ]
  },
  {
   "cell_type": "code",
   "execution_count": null,
   "metadata": {},
   "outputs": [],
   "source": []
  }
 ],
 "metadata": {
  "kernelspec": {
   "display_name": "Python 3",
   "language": "python",
   "name": "python3"
  },
  "language_info": {
   "codemirror_mode": {
    "name": "ipython",
    "version": 3
   },
   "file_extension": ".py",
   "mimetype": "text/x-python",
   "name": "python",
   "nbconvert_exporter": "python",
   "pygments_lexer": "ipython3",
   "version": "3.7.6"
  }
 },
 "nbformat": 4,
 "nbformat_minor": 4
}
