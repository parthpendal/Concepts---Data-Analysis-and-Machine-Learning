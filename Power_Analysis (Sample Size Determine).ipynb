{
  "nbformat": 4,
  "nbformat_minor": 0,
  "metadata": {
    "colab": {
      "name": "Power Analysis.ipynb",
      "provenance": [],
      "collapsed_sections": [],
      "authorship_tag": "ABX9TyNLTGN+RjVXqot5FORxPEWp",
      "include_colab_link": true
    },
    "kernelspec": {
      "name": "python3",
      "display_name": "Python 3"
    },
    "language_info": {
      "name": "python"
    }
  },
  "cells": [
    {
      "cell_type": "markdown",
      "metadata": {
        "id": "view-in-github",
        "colab_type": "text"
      },
      "source": [
        "<a href=\"https://colab.research.google.com/github/parthpendal/Concepts---Data-Analysis-and-Machine-Learning/blob/main/Power_Analysis%20(Sample%20Size%20Determine).ipynb\" target=\"_parent\"><img src=\"https://colab.research.google.com/assets/colab-badge.svg\" alt=\"Open In Colab\"/></a>"
      ]
    },
    {
      "cell_type": "code",
      "execution_count": null,
      "metadata": {
        "id": "QAfb16Fsjg42"
      },
      "outputs": [],
      "source": [
        ""
      ]
    },
    {
      "cell_type": "markdown",
      "source": [
        "###                             Power analysis:\n",
        "It is built from 4 variables, namely, Effect Size, Significance level, Power, Sample Size. All these variables are interrelated in the sense that changing one of them impacts the other three. Following this relationship, power analysis involves determining the fourth variable when the other three variables are known. It is a powerful tool for experimental design. For example, prior to an experiment, the sample size needed to detect a particular effect can be estimated given different desired levels of significance, effect size, and power. Alternatively, a study’s findings can be validated. Statistical power can be determined, by using the given sample size, effect size, and significance level, consequently helping to conclude whether the probability of committing a Type II error is acceptable from a decision-making perspective. "
      ],
      "metadata": {
        "id": "AyNn7CICjkfV"
      }
    },
    {
      "cell_type": "markdown",
      "source": [
        "##                    Power analysis using Python\n",
        "The stats.power module of the statsmodels package in Python contains the required functions for carrying out power analysis for the most commonly used statistical tests such as t-test, normal based test, F-tests, and Chi-square goodness of fit test. It’s solve_power function takes 3 of the 4 variables mentioned above as input parameters and calculates the remaining 4th variable.\n",
        "\n",
        "Consider a Student’s t-test, which is a statistical hypothesis test for comparing the means from two samples of Gaussian variables. In a pilot study with the two groups of variables, N1 = 4, Mean1 = 90, SD1 = 5; N2  = 4, Mean2 = 85, SD2 = 5. The assumption, or null hypothesis, of the test, is that the sample populations have the same mean. Since alpha is usually set to 0.05 and power to 0.80, the researcher primarily needs to be concerned with the sample size and the effect size. Let’s determine the sample size needed for the test in which a power of 80% is acceptable, with the significance level at 5% and the expected effect size to be found using the pilot study. "
      ],
      "metadata": {
        "id": "lmXQEqGdkGGD"
      }
    },
    {
      "cell_type": "code",
      "source": [
        "# import required modules\n",
        "from math import sqrt\n",
        "from statsmodels.stats.power import TTestIndPower\n",
        "\n",
        "#calculation of effect size\n",
        "# size of samples in pilot study\n",
        "n1, n2 = 4, 4\n",
        "\n",
        "# variance of samples in pilot study\n",
        "s1, s2 = 5**2, 5**2\n",
        "\n",
        "# calculate the pooled standard deviation\n",
        "# (Cohen's d)\n",
        "s = sqrt(((n1 - 1) * s1 + (n2 - 1) * s2) / (n1 + n2 - 2))\n",
        "\n",
        "# means of the samples\n",
        "u1, u2 = 90, 85\n",
        "\n",
        "# calculate the effect size\n",
        "d = (u1 - u2) / s\n",
        "print(f'Effect size: {d}')\n",
        "\n",
        "# factors for power analysis\n",
        "alpha = 0.05\n",
        "power = 0.8\n",
        "\n",
        "# perform power analysis to find sample size\n",
        "# for given effect\n",
        "obj = TTestIndPower()\n",
        "n = obj.solve_power(effect_size=d, alpha=alpha, power=power,\n",
        "\t\t\t\t\tratio=1, alternative='two-sided')\n",
        "\n",
        "print('Sample size/Number needed in each group: {:.3f}'.format(n))\n"
      ],
      "metadata": {
        "colab": {
          "base_uri": "https://localhost:8080/"
        },
        "id": "aeEaB3H8jjT1",
        "outputId": "aaf2279a-f07e-4e33-aaeb-447d94d5472d"
      },
      "execution_count": 1,
      "outputs": [
        {
          "output_type": "stream",
          "name": "stderr",
          "text": [
            "/usr/local/lib/python3.7/dist-packages/statsmodels/tools/_testing.py:19: FutureWarning: pandas.util.testing is deprecated. Use the functions in the public API at pandas.testing instead.\n",
            "  import pandas.util.testing as tm\n"
          ]
        },
        {
          "output_type": "stream",
          "name": "stdout",
          "text": [
            "Effect size: 1.0\n",
            "Sample size/Number needed in each group: 16.715\n"
          ]
        }
      ]
    },
    {
      "cell_type": "markdown",
      "source": [
        "# Alternatively, we can test the power of a specific proposed sample size. "
      ],
      "metadata": {
        "id": "ZLwv3i-rk7CA"
      }
    },
    {
      "cell_type": "code",
      "source": [
        "\n",
        "from statsmodels.stats.power import TTestPower\n",
        "  \n",
        "  \n",
        "power = TTestPower()\n",
        "n_test = power.solve_power(nobs=40, effect_size = 0.5,\n",
        "                           power = None, alpha = 0.05)\n",
        "print('Power: {:.3f}'.format(n_test))"
      ],
      "metadata": {
        "colab": {
          "base_uri": "https://localhost:8080/"
        },
        "id": "bd59rU25knZj",
        "outputId": "8c3b17fb-4967-4ab2-92ff-98afc56cea4f"
      },
      "execution_count": 2,
      "outputs": [
        {
          "output_type": "stream",
          "name": "stdout",
          "text": [
            "Power: 0.869\n"
          ]
        }
      ]
    },
    {
      "cell_type": "markdown",
      "source": [
        "## Plot power curves\n",
        "We can also plot power curves. Power curves are line plots that show how the change in effect size and sample size impact the power of the statistical test. The plot_power() function can be used to create power curves. ‘dep_var‘ argument specifies the dependent variable (x-axis) and can be ‘nobs’, ‘effect_size’ or ‘alpha’. Here, ‘nobs’ is the sample size and takes in array values. Due to this, one curve is created for each value of effect size.\n",
        "\n",
        "Let’s assume a significance level of 0.05 and explore the change in sample size between 5 and 100 with Cohen’s d standard low, medium, and high effect sizes."
      ],
      "metadata": {
        "id": "8INIMHg7lIxZ"
      }
    },
    {
      "cell_type": "code",
      "source": [
        "# import required libraries\n",
        "import numpy as np\n",
        "import matplotlib.pyplot as plt\n",
        "from statsmodels.stats.power import TTestIndPower\n",
        "\n",
        "\n",
        "# power analysis varying parameters\n",
        "effect_sizes = np.array([0.2, 0.5, 0.8,1.3])\n",
        "sample_sizes = np.array(range(5, 100))\n",
        "\n",
        "# plot power curves\n",
        "obj = TTestIndPower()\n",
        "obj.plot_power(dep_var='nobs', nobs=sample_sizes,effect_size=effect_sizes)\n",
        "\n",
        "plt.show()\n"
      ],
      "metadata": {
        "colab": {
          "base_uri": "https://localhost:8080/",
          "height": 295
        },
        "id": "zfMsvfJnk_ht",
        "outputId": "22ab6ea7-84fa-4c55-beab-2b706cee6bfe"
      },
      "execution_count": 5,
      "outputs": [
        {
          "output_type": "display_data",
          "data": {
            "image/png": "[encoded data removed]",
            "text/plain": [
              "<Figure size 432x288 with 1 Axes>"
            ]
          },
          "metadata": {
            "needs_background": "light"
          }
        }
      ]
    },
    {
      "cell_type": "markdown",
      "source": [
        "## Sample size required for Ztest"
      ],
      "metadata": {
        "id": "5NqESt36mwDE"
      }
    },
    {
      "cell_type": "code",
      "source": [
        "import statsmodels.stats.power as power\n",
        "zpower = power.NormalIndPower()\n",
        "chipower = power.GofChisquarePower()\n",
        "zpower.solve_power(0.1, nobs1=None, alpha=0.05, power=0.9, ratio=1.) # Returns ~2100\n",
        "chipower.solve_power(0.1, nobs=None, alpha=0.05, power=0.9) # Returns ~1050"
      ],
      "metadata": {
        "id": "DRse66f5m_z0"
      },
      "execution_count": null,
      "outputs": []
    }
  ]
}