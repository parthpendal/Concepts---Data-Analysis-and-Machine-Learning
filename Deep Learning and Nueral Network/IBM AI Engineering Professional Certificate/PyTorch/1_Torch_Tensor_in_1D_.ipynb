{
  "nbformat": 4,
  "nbformat_minor": 0,
  "metadata": {
    "colab": {
      "name": "1. Torch Tensor in 1D .ipynb",
      "provenance": [],
      "collapsed_sections": [
        "I-TAkBmRU8zZ"
      ]
    },
    "kernelspec": {
      "name": "python3",
      "display_name": "Python 3"
    },
    "language_info": {
      "name": "python"
    }
  },
  "cells": [
    {
      "cell_type": "code",
      "execution_count": 15,
      "metadata": {
        "id": "KBxvZwPqiWe7"
      },
      "outputs": [],
      "source": [
        "import torch\n",
        "import numpy as np\n",
        "import pandas as pd\n",
        "\n",
        "import matplotlib.pyplot as plt\n"
      ]
    },
    {
      "cell_type": "markdown",
      "source": [
        "Check pytorch version"
      ],
      "metadata": {
        "id": "0YsIuCmkjuNe"
      }
    },
    {
      "cell_type": "code",
      "source": [
        "torch.__version__"
      ],
      "metadata": {
        "colab": {
          "base_uri": "https://localhost:8080/",
          "height": 35
        },
        "id": "SiivMkUZjgY9",
        "outputId": "d5d59162-3491-4275-8432-eb2b520e2923"
      },
      "execution_count": 16,
      "outputs": [
        {
          "output_type": "execute_result",
          "data": {
            "application/vnd.google.colaboratory.intrinsic+json": {
              "type": "string"
            },
            "text/plain": [
              "'1.10.0+cu111'"
            ]
          },
          "metadata": {},
          "execution_count": 16
        }
      ]
    },
    {
      "cell_type": "code",
      "source": [
        "# Convert a integer list with length 5 to a tensor\n",
        "#type is a built-in name of the Python language\n",
        "#dtype is the name of a parameter / member of numerical numpy library objects.\n",
        "int_to_tensor=torch.tensor([0,1,2,3,4])\n",
        "print(\"The dtype of tensor object after converting it to tensor: \", int_to_tensor.dtype)\n",
        "print(\"The type of tensor object after converting it to tensor: \", int_to_tensor.type())"
      ],
      "metadata": {
        "colab": {
          "base_uri": "https://localhost:8080/"
        },
        "id": "nkpDU3w7jx2a",
        "outputId": "1cba09a8-fb97-4c68-a084-8660cbe14487"
      },
      "execution_count": 17,
      "outputs": [
        {
          "output_type": "stream",
          "name": "stdout",
          "text": [
            "The dtype of tensor object after converting it to tensor:  torch.int64\n",
            "The type of tensor object after converting it to tensor:  torch.LongTensor\n"
          ]
        }
      ]
    },
    {
      "cell_type": "code",
      "source": [
        "type(int_to_tensor)"
      ],
      "metadata": {
        "colab": {
          "base_uri": "https://localhost:8080/"
        },
        "id": "0WovrQFXk5rD",
        "outputId": "5032b221-9fef-498a-c778-ac97190a73c7"
      },
      "execution_count": 18,
      "outputs": [
        {
          "output_type": "execute_result",
          "data": {
            "text/plain": [
              "torch.Tensor"
            ]
          },
          "metadata": {},
          "execution_count": 18
        }
      ]
    },
    {
      "cell_type": "markdown",
      "source": [
        "## Type and shape"
      ],
      "metadata": {
        "id": "I-TAkBmRU8zZ"
      }
    },
    {
      "cell_type": "code",
      "source": [
        "# Convert a float list with length 5 to a tensor\n",
        "float_to_tensor=torch.tensor([0.1,0.2,0.3,0.4,0.5])\n",
        "print(\"The dtype of tensor object after converting it to tensor: \", float_to_tensor.dtype)\n",
        "print(\"The type of tensor object after converting it to tensor: \", float_to_tensor.type())\n",
        "print(type(float_to_tensor))"
      ],
      "metadata": {
        "colab": {
          "base_uri": "https://localhost:8080/"
        },
        "id": "UiUWo2BBmQYz",
        "outputId": "1972abf3-5aad-4e0e-94bb-21690aa838b4"
      },
      "execution_count": 19,
      "outputs": [
        {
          "output_type": "stream",
          "name": "stdout",
          "text": [
            "The dtype of tensor object after converting it to tensor:  torch.float32\n",
            "The type of tensor object after converting it to tensor:  torch.FloatTensor\n",
            "<class 'torch.Tensor'>\n"
          ]
        }
      ]
    },
    {
      "cell_type": "code",
      "source": [
        "list_floats=[0.0, 1.0, 2.0, 3.0, 4.0]\n",
        "float_int_tensor=torch.tensor(list_floats,dtype=torch.int64)\n",
        "print(\"The dtype of tensor object after converting it to tensor: \", float_int_tensor.dtype)\n",
        "print(\"The type of tensor object after converting it to tensor: \", float_int_tensor.type())"
      ],
      "metadata": {
        "colab": {
          "base_uri": "https://localhost:8080/"
        },
        "id": "yNX3q7C6nqfB",
        "outputId": "d67b17f3-61a5-42a2-88c6-bfaebe8d5e2f"
      },
      "execution_count": 20,
      "outputs": [
        {
          "output_type": "stream",
          "name": "stdout",
          "text": [
            "The dtype of tensor object after converting it to tensor:  torch.int64\n",
            "The type of tensor object after converting it to tensor:  torch.LongTensor\n"
          ]
        }
      ]
    },
    {
      "cell_type": "code",
      "source": [
        "# Convert a integer list with length 5 to float tensor\n",
        "new_float_tensor = torch.FloatTensor([0, 1, 2, 3, 4])\n",
        "print(\"The dtype of tensor object after converting it to tensor: \", new_float_tensor.dtype)\n",
        "print(\"The type of tensor object after converting it to tensor: \", new_float_tensor.type())"
      ],
      "metadata": {
        "colab": {
          "base_uri": "https://localhost:8080/"
        },
        "id": "93D_K2UyoxDS",
        "outputId": "91da1a26-5bf6-4fa5-fde8-56ee0d59af02"
      },
      "execution_count": 21,
      "outputs": [
        {
          "output_type": "stream",
          "name": "stdout",
          "text": [
            "The dtype of tensor object after converting it to tensor:  torch.float32\n",
            "The type of tensor object after converting it to tensor:  torch.FloatTensor\n"
          ]
        }
      ]
    },
    {
      "cell_type": "code",
      "source": [
        "# Another method to convert the integer list to float tensor\n",
        "\n",
        "old_int_tensor = torch.tensor([0, 1, 2, 3, 4])\n",
        "new_float_tensor=old_int_tensor.type(torch.FloatTensor)\n",
        "new_float_tensor.type()"
      ],
      "metadata": {
        "colab": {
          "base_uri": "https://localhost:8080/",
          "height": 35
        },
        "id": "PqyRBIuRpwKc",
        "outputId": "05b60330-ebbc-4a14-8264-826ff7490e3a"
      },
      "execution_count": 22,
      "outputs": [
        {
          "output_type": "execute_result",
          "data": {
            "application/vnd.google.colaboratory.intrinsic+json": {
              "type": "string"
            },
            "text/plain": [
              "'torch.FloatTensor'"
            ]
          },
          "metadata": {},
          "execution_count": 22
        }
      ]
    },
    {
      "cell_type": "code",
      "source": [
        "# Introduce the tensor_obj.size() & tensor_ndimension.size() methods\n",
        "\n",
        "print(\"The size of the new_float_tensor: \", new_float_tensor.size())\n",
        "print(\"The dimension of the new_float_tensor: \",new_float_tensor.ndimension())"
      ],
      "metadata": {
        "colab": {
          "base_uri": "https://localhost:8080/"
        },
        "id": "25OQfxyqq5Fg",
        "outputId": "c2fb90cd-0de9-4b2f-81f6-c4bf9d292ab2"
      },
      "execution_count": 24,
      "outputs": [
        {
          "output_type": "stream",
          "name": "stdout",
          "text": [
            "The size of the new_float_tensor:  torch.Size([5])\n",
            "The dimension of the new_float_tensor:  1\n"
          ]
        }
      ]
    },
    {
      "cell_type": "markdown",
      "source": [
        "The tensor_obj.view(row, column) is used for reshaping a tensor object.\n",
        "\n",
        "What if you have a tensor object with torch.Size([5]) as a new_float_tensor as shown in the previous example?\n",
        "After you execute new_float_tensor.view(5, 1), the size of new_float_tensor will be torch.Size([5, 1]).\n",
        "This means that the tensor object new_float_tensor has been reshaped from a one-dimensional tensor object with 5 elements to a two-dimensional tensor object with 5 rows and 1 column."
      ],
      "metadata": {
        "id": "uv6bbK1gBOiB"
      }
    },
    {
      "cell_type": "code",
      "source": [
        "# Introduce the tensor_obj.view(row, column) method\n",
        "\n",
        "twoD_float_tensor = new_float_tensor.view(5,1)\n",
        "print(\"Tensor size:\", twoD_float_tensor.size())\n",
        "print(\"Tensor dimensions: \", twoD_float_tensor.ndimension())"
      ],
      "metadata": {
        "colab": {
          "base_uri": "https://localhost:8080/"
        },
        "id": "lxbWEX7e_Fcm",
        "outputId": "c6f2769e-076c-4109-a0d9-1695264b4477"
      },
      "execution_count": 25,
      "outputs": [
        {
          "output_type": "stream",
          "name": "stdout",
          "text": [
            "Tensor size: torch.Size([5, 1])\n",
            "Tensor dimensions:  2\n"
          ]
        }
      ]
    },
    {
      "cell_type": "code",
      "source": [
        "twoD_float_tensor"
      ],
      "metadata": {
        "colab": {
          "base_uri": "https://localhost:8080/"
        },
        "id": "yubUtPZsBiC6",
        "outputId": "7998dfd5-d147-4c31-fe9d-754113b453ab"
      },
      "execution_count": 26,
      "outputs": [
        {
          "output_type": "execute_result",
          "data": {
            "text/plain": [
              "tensor([[0.],\n",
              "        [1.],\n",
              "        [2.],\n",
              "        [3.],\n",
              "        [4.]])"
            ]
          },
          "metadata": {},
          "execution_count": 26
        }
      ]
    },
    {
      "cell_type": "code",
      "source": [
        "#What if you have a tensor with dynamic size but you want to reshape it? You can use -1 to do just that.\n",
        "\n",
        "my_tensor=torch.Tensor([1.2,1.4,1.6,1.32,12.4,5,64,56.1,1.1,1.123])\n",
        "print(\"Tensor size:\", my_tensor.size())\n",
        "print(\"Tensor dimension:\", my_tensor.ndimension())\n",
        "#Reshape it\n",
        "new_tensor=my_tensor.view(-1,2)\n",
        "print(\"Reshaped Tensor size:\", new_tensor.size())\n",
        "print(\"Reshaped Tensor dimension:\", new_tensor.ndimension())\n"
      ],
      "metadata": {
        "colab": {
          "base_uri": "https://localhost:8080/"
        },
        "id": "lv2uPRU3Blak",
        "outputId": "f95f877d-1e70-46a6-da14-ad0de67f3e8b"
      },
      "execution_count": 34,
      "outputs": [
        {
          "output_type": "stream",
          "name": "stdout",
          "text": [
            "Tensor size: torch.Size([10])\n",
            "Tensor dimension: 1\n",
            "Reshaped Tensor size: torch.Size([5, 2])\n",
            "Reshaped Tensor dimension: 2\n"
          ]
        }
      ]
    },
    {
      "cell_type": "code",
      "source": [
        "# Convert a numpy array to a tensor\n",
        "\n",
        "numpy_array = np.array([0.0, 1.0, 2.0, 3.0, 4.0])\n",
        "numpy_to_tensor=torch.Tensor(numpy_array)\n",
        "print(\"The dtype of new tensor: \", new_tensor.dtype)\n",
        "print(\"The type of new tensor: \", new_tensor.type())\n",
        "numpy_to_tensor"
      ],
      "metadata": {
        "colab": {
          "base_uri": "https://localhost:8080/"
        },
        "id": "gJRDlZpPCP3j",
        "outputId": "ba7a7a89-2b51-4c1e-e781-2198819c23e0"
      },
      "execution_count": 39,
      "outputs": [
        {
          "output_type": "stream",
          "name": "stdout",
          "text": [
            "The dtype of new tensor:  torch.float32\n",
            "The type of new tensor:  torch.FloatTensor\n"
          ]
        },
        {
          "output_type": "execute_result",
          "data": {
            "text/plain": [
              "tensor([0., 1., 2., 3., 4.])"
            ]
          },
          "metadata": {},
          "execution_count": 39
        }
      ]
    },
    {
      "cell_type": "code",
      "source": [
        "# Method2 Convert a numpy array to a tensor\n",
        "\n",
        "numpy_array = np.array([0.0, 1.0, 2.0, 3.0, 4.0])\n",
        "numpy_to_tensor=torch.from_numpy(numpy_array)\n",
        "print(\"The dtype of new tensor: \", new_tensor.dtype)\n",
        "print(\"The type of new tensor: \", new_tensor.type())  \n",
        "numpy_to_tensor"
      ],
      "metadata": {
        "colab": {
          "base_uri": "https://localhost:8080/"
        },
        "id": "_0yG91zQFAPC",
        "outputId": "c75cc083-ce82-424f-d44f-7e73f6b420b8"
      },
      "execution_count": 40,
      "outputs": [
        {
          "output_type": "stream",
          "name": "stdout",
          "text": [
            "The dtype of new tensor:  torch.float32\n",
            "The type of new tensor:  torch.FloatTensor\n"
          ]
        },
        {
          "output_type": "execute_result",
          "data": {
            "text/plain": [
              "tensor([0., 1., 2., 3., 4.], dtype=torch.float64)"
            ]
          },
          "metadata": {},
          "execution_count": 40
        }
      ]
    },
    {
      "cell_type": "code",
      "source": [
        "# Convert a tensor to a numpy array\n",
        "\n",
        "my_tensor = torch.Tensor([1.0,2.0,3,4,6.0])\n",
        "tensor_to_numpy = np.array(my_tensor)\n",
        "print(\"The dtype of new tensor: \", tensor_to_numpy.dtype)\n",
        "print(\"The type of new tensor: \", type(tensor_to_numpy))"
      ],
      "metadata": {
        "colab": {
          "base_uri": "https://localhost:8080/"
        },
        "id": "wd1Ng1LaFJ1V",
        "outputId": "34ce98a7-0de2-445f-fdac-6747eb36ecb9"
      },
      "execution_count": 43,
      "outputs": [
        {
          "output_type": "stream",
          "name": "stdout",
          "text": [
            "The dtype of new tensor:  float32\n",
            "The type of new tensor:  <class 'numpy.ndarray'>\n"
          ]
        }
      ]
    },
    {
      "cell_type": "code",
      "source": [
        "# Method 2Convert a tensor to a numpy array\n",
        "\n",
        "my_tensor = torch.Tensor([1.0,2.0,3,4,6.0])\n",
        "tensor_to_numpy = my_tensor.numpy()\n",
        "print(\"The dtype of new tensor: \", tensor_to_numpy.dtype)\n",
        "print(\"The type of new tensor: \", type(tensor_to_numpy))"
      ],
      "metadata": {
        "colab": {
          "base_uri": "https://localhost:8080/"
        },
        "id": "gAJ1C_DcG5VC",
        "outputId": "e367141b-a89b-4b06-d3c5-ea691b5d1f58"
      },
      "execution_count": 44,
      "outputs": [
        {
          "output_type": "stream",
          "name": "stdout",
          "text": [
            "The dtype of new tensor:  float32\n",
            "The type of new tensor:  <class 'numpy.ndarray'>\n"
          ]
        }
      ]
    },
    {
      "cell_type": "code",
      "source": [
        "# Convert a panda series to a tensor\n",
        "\n",
        "pandas_series=pd.Series([0.1, 2, 0.3, 10.1])\n",
        "new_tensor=torch.from_numpy(pandas_series.values)\n",
        "print(\"The new tensor from numpy array: \", new_tensor)\n",
        "print(\"The dtype of new tensor: \", new_tensor.dtype)\n",
        "print(\"The type of new tensor: \", new_tensor.type())"
      ],
      "metadata": {
        "colab": {
          "base_uri": "https://localhost:8080/"
        },
        "id": "-MYLGC39HL8q",
        "outputId": "f75737e5-6960-471e-e5a5-5e68fec7f54d"
      },
      "execution_count": 49,
      "outputs": [
        {
          "output_type": "stream",
          "name": "stdout",
          "text": [
            "The new tensor from numpy array:  tensor([ 0.1000,  2.0000,  0.3000, 10.1000], dtype=torch.float64)\n",
            "The dtype of new tensor:  torch.float64\n",
            "The type of new tensor:  torch.DoubleTensor\n"
          ]
        }
      ]
    },
    {
      "cell_type": "code",
      "source": [
        "#The method item() returns the value of this tensor as a standard Python number. This only works for one element. \n",
        "this_tensor=torch.Tensor([0,1,2,3,4,5,6,7])\n",
        "print(\"First item is given by:\", this_tensor[0].item(), \"First tensor values is given by:\", this_tensor[0])\n",
        "print(\"First item is given by:\", this_tensor[1].item(), \"First tensor values is given by:\", this_tensor[1])\n",
        "print(\"First item is given by:\", this_tensor[2].item(), \"First tensor values is given by:\", this_tensor[2])"
      ],
      "metadata": {
        "colab": {
          "base_uri": "https://localhost:8080/"
        },
        "id": "6F1yehnxIpu_",
        "outputId": "6394701a-469d-46b4-a037-3df779ff250e"
      },
      "execution_count": 51,
      "outputs": [
        {
          "output_type": "stream",
          "name": "stdout",
          "text": [
            "First item is given by: 0.0 First tensor values is given by: tensor(0.)\n",
            "First item is given by: 1.0 First tensor values is given by: tensor(1.)\n",
            "First item is given by: 2.0 First tensor values is given by: tensor(2.)\n"
          ]
        }
      ]
    },
    {
      "cell_type": "code",
      "source": [
        "torch_to_list=this_tensor.tolist()\n",
        "print('tensor:', this_tensor,\"\\nlist:\",torch_to_list)"
      ],
      "metadata": {
        "colab": {
          "base_uri": "https://localhost:8080/"
        },
        "id": "9gqgAzPGNwfI",
        "outputId": "595e3570-bc1a-430b-b573-80de9b8a70d1"
      },
      "execution_count": 52,
      "outputs": [
        {
          "output_type": "stream",
          "name": "stdout",
          "text": [
            "tensor: tensor([0., 1., 2., 3., 4., 5., 6., 7.]) \n",
            "list: [0.0, 1.0, 2.0, 3.0, 4.0, 5.0, 6.0, 7.0]\n"
          ]
        }
      ]
    },
    {
      "cell_type": "markdown",
      "source": [
        "## Indexing and Slicing"
      ],
      "metadata": {
        "id": "SLzzM_TgQbGf"
      }
    },
    {
      "cell_type": "code",
      "source": [
        "index_tensor = torch.tensor([0.0, 0.1, 0.2, 0.3, 0.4,0.5,0.6,0.7])\n",
        "print(\"The value on index 0:\", index_tensor[0])\n",
        "print(\"The value on index 1:\", index_tensor[1])\n",
        "print(\"The value on index 2:\", index_tensor[2])\n",
        "print(\"The value on index 3:\", index_tensor[3])"
      ],
      "metadata": {
        "colab": {
          "base_uri": "https://localhost:8080/"
        },
        "id": "Qmt4BVhdQPCg",
        "outputId": "89e1e665-ea87-4bfd-9a24-0fce468f98ca"
      },
      "execution_count": 59,
      "outputs": [
        {
          "output_type": "stream",
          "name": "stdout",
          "text": [
            "The value on index 0: tensor(0.)\n",
            "The value on index 1: tensor(0.1000)\n",
            "The value on index 2: tensor(0.2000)\n",
            "The value on index 3: tensor(0.3000)\n"
          ]
        }
      ]
    },
    {
      "cell_type": "code",
      "source": [
        "#Change value of element of tesnor\n",
        "print(index_tensor)\n",
        "index_tensor[0]=100\n",
        "print(index_tensor)"
      ],
      "metadata": {
        "colab": {
          "base_uri": "https://localhost:8080/"
        },
        "id": "4jNdMQM9Q3Fa",
        "outputId": "e695fead-d5d0-4c55-a3e8-e5ee2162017b"
      },
      "execution_count": 60,
      "outputs": [
        {
          "output_type": "stream",
          "name": "stdout",
          "text": [
            "tensor([0.0000, 0.1000, 0.2000, 0.3000, 0.4000, 0.5000, 0.6000, 0.7000])\n",
            "tensor([100.0000,   0.1000,   0.2000,   0.3000,   0.4000,   0.5000,   0.6000,\n",
            "          0.7000])\n"
          ]
        }
      ]
    },
    {
      "cell_type": "code",
      "source": [
        "# Slice tensor_sample\n",
        "\n",
        "subset_tensor_sample = index_tensor[1:4]\n",
        "print(\"Original tensor sample: \", index_tensor)\n",
        "print(\"The subset of tensor sample:\", subset_tensor_sample)"
      ],
      "metadata": {
        "colab": {
          "base_uri": "https://localhost:8080/"
        },
        "id": "Zkyvvn6FRS27",
        "outputId": "d9b08c25-f912-4753-a6a5-5683696f2457"
      },
      "execution_count": 62,
      "outputs": [
        {
          "output_type": "stream",
          "name": "stdout",
          "text": [
            "Original tensor sample:  tensor([100.0000,   0.1000,   0.2000,   0.3000,   0.4000,   0.5000,   0.6000,\n",
            "          0.7000])\n",
            "The subset of tensor sample: tensor([0.1000, 0.2000, 0.3000])\n"
          ]
        }
      ]
    },
    {
      "cell_type": "code",
      "source": [
        "# Change the values on index 3 and index 4\n",
        "\n",
        "print(\"Inital value on index 3 and index 4:\", index_tensor[3:5])\n",
        "index_tensor[3:5] = torch.tensor([3.0, 4.0])\n",
        "print(\"Modified tensor:\", index_tensor)"
      ],
      "metadata": {
        "colab": {
          "base_uri": "https://localhost:8080/"
        },
        "id": "kuTPK0qpS4pf",
        "outputId": "77af61d9-75ef-435a-eba7-86ec1096f957"
      },
      "execution_count": 68,
      "outputs": [
        {
          "output_type": "stream",
          "name": "stdout",
          "text": [
            "Inital value on index 3 and index 4: tensor([300., 400.])\n",
            "Modified tensor: tensor([100.0000,   0.1000,   0.2000,   3.0000,   4.0000,   0.5000,   0.6000,\n",
            "          0.7000])\n"
          ]
        }
      ]
    },
    {
      "cell_type": "code",
      "source": [
        "#Using variable to assign the value to the selected indexes\n",
        "tensor_sample = torch.tensor([0.0, 0.1, 0.2, 0.3, 0.4,0.5,0.6,0.7])\n",
        "print(\"The inital tensor_sample\", tensor_sample)\n",
        "selected_indexes = [1, 3]\n",
        "tensor_sample[selected_indexes] = 10\n",
        "print(\"Modified tensor with one value: \", tensor_sample)"
      ],
      "metadata": {
        "colab": {
          "base_uri": "https://localhost:8080/"
        },
        "id": "uoUMnaK5TGLg",
        "outputId": "05bec83d-9cd2-4ed1-d3cc-6d208d8a8d54"
      },
      "execution_count": 70,
      "outputs": [
        {
          "output_type": "stream",
          "name": "stdout",
          "text": [
            "The inital tensor_sample tensor([0.0000, 0.1000, 0.2000, 0.3000, 0.4000, 0.5000, 0.6000, 0.7000])\n",
            "Modified tensor with one value:  tensor([ 0.0000, 10.0000,  0.2000, 10.0000,  0.4000,  0.5000,  0.6000,  0.7000])\n"
          ]
        }
      ]
    },
    {
      "cell_type": "markdown",
      "source": [
        "## Tensor Functions"
      ],
      "metadata": {
        "id": "gj1NMhsHVEJX"
      }
    },
    {
      "cell_type": "code",
      "source": [
        "# Sample tensor for mathmatic calculation methods on tensor\n",
        "\n",
        "math_tensor = torch.tensor([1.0, -1.0, 1, -1,2])\n",
        "print(\"Tensor example: \", math_tensor)"
      ],
      "metadata": {
        "colab": {
          "base_uri": "https://localhost:8080/"
        },
        "id": "WViusYL3Utt1",
        "outputId": "2c722ed9-991d-4a73-fe57-5c00569ac959"
      },
      "execution_count": 73,
      "outputs": [
        {
          "output_type": "stream",
          "name": "stdout",
          "text": [
            "Tensor example:  tensor([ 1., -1.,  1., -1.,  2.])\n"
          ]
        }
      ]
    },
    {
      "cell_type": "code",
      "source": [
        "#Calculate the mean for math_tensor\n",
        "math_tensor.mean()"
      ],
      "metadata": {
        "colab": {
          "base_uri": "https://localhost:8080/"
        },
        "id": "QRx0OxA2VPkn",
        "outputId": "039847ca-6aae-4371-d0e7-205b5e1e9bf1"
      },
      "execution_count": 74,
      "outputs": [
        {
          "output_type": "execute_result",
          "data": {
            "text/plain": [
              "tensor(0.4000)"
            ]
          },
          "metadata": {},
          "execution_count": 74
        }
      ]
    },
    {
      "cell_type": "code",
      "source": [
        "#Calculate the standard deviation for math_tensor\n",
        "math_tensor.std()"
      ],
      "metadata": {
        "colab": {
          "base_uri": "https://localhost:8080/"
        },
        "id": "T3eWfq0XVVxu",
        "outputId": "9d5faaa1-d4e7-4253-c93c-a0929c79a840"
      },
      "execution_count": 75,
      "outputs": [
        {
          "output_type": "execute_result",
          "data": {
            "text/plain": [
              "tensor(1.3416)"
            ]
          },
          "metadata": {},
          "execution_count": 75
        }
      ]
    },
    {
      "cell_type": "code",
      "source": [
        "# Method for finding the maximum value in the tensor\n",
        "math_tensor.max()"
      ],
      "metadata": {
        "colab": {
          "base_uri": "https://localhost:8080/"
        },
        "id": "v3sEEr9zVfgz",
        "outputId": "00496fdd-e303-4455-e3f1-0935f8f1c228"
      },
      "execution_count": 76,
      "outputs": [
        {
          "output_type": "execute_result",
          "data": {
            "text/plain": [
              "tensor(2.)"
            ]
          },
          "metadata": {},
          "execution_count": 76
        }
      ]
    },
    {
      "cell_type": "code",
      "source": [
        "# Method for finding the minimum value in the tensor\n",
        "math_tensor.min()"
      ],
      "metadata": {
        "colab": {
          "base_uri": "https://localhost:8080/"
        },
        "id": "OIrK-MSRVorj",
        "outputId": "6d0117be-68fd-46de-8f7f-d88cdd49680d"
      },
      "execution_count": 77,
      "outputs": [
        {
          "output_type": "execute_result",
          "data": {
            "text/plain": [
              "tensor(-1.)"
            ]
          },
          "metadata": {},
          "execution_count": 77
        }
      ]
    },
    {
      "cell_type": "code",
      "source": [
        "# Method for calculating the sin result of each element in the tensor\n",
        "pi_tensor=torch.tensor([0, np.pi/2,np.pi])\n",
        "sin=torch.sin(pi_tensor)\n",
        "print(sin)"
      ],
      "metadata": {
        "colab": {
          "base_uri": "https://localhost:8080/"
        },
        "id": "LL1KzMaCVt7V",
        "outputId": "d62c57fb-4aa4-4bfc-e221-49a909563c40"
      },
      "execution_count": 79,
      "outputs": [
        {
          "output_type": "stream",
          "name": "stdout",
          "text": [
            "tensor([ 0.0000e+00,  1.0000e+00, -8.7423e-08])\n"
          ]
        }
      ]
    },
    {
      "cell_type": "code",
      "source": [
        "# First try on using linspace to create tensor\n",
        "\n",
        "len_5_tensor = torch.linspace(-10,10,steps=5)\n",
        "print (\"First Try on linspace\", len_5_tensor)"
      ],
      "metadata": {
        "colab": {
          "base_uri": "https://localhost:8080/"
        },
        "id": "5QczZwRMWY2Z",
        "outputId": "82f8ec3c-63f7-4a1d-e409-0cbc0a40d1ef"
      },
      "execution_count": 81,
      "outputs": [
        {
          "output_type": "stream",
          "name": "stdout",
          "text": [
            "First Try on linspace tensor([-10.,  -5.,   0.,   5.,  10.])\n"
          ]
        }
      ]
    },
    {
      "cell_type": "code",
      "source": [
        "# First try on using linspace to create tensor\n",
        "\n",
        "len_5_tensor = torch.linspace(-10,10,steps=9)\n",
        "print (\"First Try on linspace\", len_5_tensor)"
      ],
      "metadata": {
        "colab": {
          "base_uri": "https://localhost:8080/"
        },
        "id": "liQFi3xhWuZ8",
        "outputId": "0cdc4bd7-f789-43de-d263-a8cacaffbbb4"
      },
      "execution_count": 82,
      "outputs": [
        {
          "output_type": "stream",
          "name": "stdout",
          "text": [
            "First Try on linspace tensor([-10.0000,  -7.5000,  -5.0000,  -2.5000,   0.0000,   2.5000,   5.0000,\n",
            "          7.5000,  10.0000])\n"
          ]
        }
      ]
    },
    {
      "cell_type": "code",
      "source": [
        "pi_tensor=torch.linspace(0, 2*np.pi, steps=1000)\n",
        "sin=torch.sin(pi_tensor)\n",
        "plt.plot(pi_tensor.numpy(),sin.numpy())"
      ],
      "metadata": {
        "colab": {
          "base_uri": "https://localhost:8080/",
          "height": 282
        },
        "id": "RiTQoaVdW0_q",
        "outputId": "c97ef683-cad1-4a81-a94a-472271e60be8"
      },
      "execution_count": 86,
      "outputs": [
        {
          "output_type": "execute_result",
          "data": {
            "text/plain": [
              "[<matplotlib.lines.Line2D at 0x7f1fc16476d0>]"
            ]
          },
          "metadata": {},
          "execution_count": 86
        },
        {
          "output_type": "display_data",
          "data": {
            "image/png": "[encoded data removed]",
            "text/plain": [
              "<Figure size 432x288 with 1 Axes>"
            ]
          },
          "metadata": {
            "needs_background": "light"
          }
        }
      ]
    },
    {
      "cell_type": "code",
      "source": [
        "pi_tensor=torch.linspace(0,np.pi/2,steps=25)\n",
        "sin=torch.sin(pi_tensor)\n",
        "plt.plot(pi_tensor,sin)"
      ],
      "metadata": {
        "colab": {
          "base_uri": "https://localhost:8080/",
          "height": 282
        },
        "id": "b_lX1vatW8w5",
        "outputId": "e60e73cd-3732-4ae4-bad3-6b7f62258556"
      },
      "execution_count": 88,
      "outputs": [
        {
          "output_type": "execute_result",
          "data": {
            "text/plain": [
              "[<matplotlib.lines.Line2D at 0x7f1fc1541650>]"
            ]
          },
          "metadata": {},
          "execution_count": 88
        },
        {
          "output_type": "display_data",
          "data": {
            "image/png": "[encoded data removed]",
            "text/plain": [
              "<Figure size 432x288 with 1 Axes>"
            ]
          },
          "metadata": {
            "needs_background": "light"
          }
        }
      ]
    },
    {
      "cell_type": "markdown",
      "source": [
        "## Tensor Operations"
      ],
      "metadata": {
        "id": "WZTgyU1sYrcQ"
      }
    },
    {
      "cell_type": "code",
      "source": [
        "# Create two sample tensors\n",
        "\n",
        "u = torch.tensor([1, 0])\n",
        "v = torch.tensor([0, 1])"
      ],
      "metadata": {
        "id": "ULxPBtGKYmxw"
      },
      "execution_count": 89,
      "outputs": []
    },
    {
      "cell_type": "code",
      "source": [
        "# Add u and v\n",
        "\n",
        "w = u + v\n",
        "print(\"The result tensor: \", w)"
      ],
      "metadata": {
        "colab": {
          "base_uri": "https://localhost:8080/"
        },
        "id": "UQz-_9ttYxpX",
        "outputId": "9a26d8cf-f12b-46d9-8605-62cb7e77e17b"
      },
      "execution_count": 90,
      "outputs": [
        {
          "output_type": "stream",
          "name": "stdout",
          "text": [
            "The result tensor:  tensor([1, 1])\n"
          ]
        }
      ]
    },
    {
      "cell_type": "code",
      "source": [
        "# tensor + scalar\n",
        "\n",
        "u = torch.tensor([1, 2, 3, -1])\n",
        "v = u + 1\n",
        "print (\"Addition Result: \", v)"
      ],
      "metadata": {
        "colab": {
          "base_uri": "https://localhost:8080/"
        },
        "id": "lLgPC24OY0pL",
        "outputId": "f6677247-9753-4911-cc73-ec7119920d67"
      },
      "execution_count": 92,
      "outputs": [
        {
          "output_type": "stream",
          "name": "stdout",
          "text": [
            "Addition Result:  tensor([2, 3, 4, 0])\n"
          ]
        }
      ]
    },
    {
      "cell_type": "code",
      "source": [
        "# tensor * scalar\n",
        "\n",
        "u = torch.tensor([1, 2])\n",
        "v = 2 * u\n",
        "print(\"The result of 2 * u: \", v)"
      ],
      "metadata": {
        "colab": {
          "base_uri": "https://localhost:8080/"
        },
        "id": "NoAnr9GGY4UX",
        "outputId": "997f30b6-13f7-454e-b733-7b8e66779865"
      },
      "execution_count": 93,
      "outputs": [
        {
          "output_type": "stream",
          "name": "stdout",
          "text": [
            "The result of 2 * u:  tensor([2, 4])\n"
          ]
        }
      ]
    },
    {
      "cell_type": "code",
      "source": [
        "# tensor * tensor\n",
        "\n",
        "u = torch.tensor([1, 2])\n",
        "v = torch.tensor([3, 2])\n",
        "w = u * v\n",
        "print (\"The result of u * v\", w)"
      ],
      "metadata": {
        "colab": {
          "base_uri": "https://localhost:8080/"
        },
        "id": "icSp5lgqZAeS",
        "outputId": "151108d6-a963-47f2-fe2d-c35dc03a0c69"
      },
      "execution_count": 94,
      "outputs": [
        {
          "output_type": "stream",
          "name": "stdout",
          "text": [
            "The result of u * v tensor([3, 4])\n"
          ]
        }
      ]
    },
    {
      "cell_type": "code",
      "source": [
        "# Calculate dot product of u, v\n",
        "\n",
        "u = torch.tensor([1, 2])\n",
        "v = torch.tensor([3, 2])\n",
        "\n",
        "print(\"Dot Product of u, v:\", torch.dot(u,v))"
      ],
      "metadata": {
        "colab": {
          "base_uri": "https://localhost:8080/"
        },
        "id": "5xVOZUpnZCQn",
        "outputId": "0a1fd77e-f573-4b2f-ae43-5d8a510cc172"
      },
      "execution_count": 95,
      "outputs": [
        {
          "output_type": "stream",
          "name": "stdout",
          "text": [
            "Dot Product of u, v: tensor(7)\n"
          ]
        }
      ]
    },
    {
      "cell_type": "code",
      "source": [
        ""
      ],
      "metadata": {
        "id": "4zUq6yG5ZOBq"
      },
      "execution_count": null,
      "outputs": []
    }
  ]
}