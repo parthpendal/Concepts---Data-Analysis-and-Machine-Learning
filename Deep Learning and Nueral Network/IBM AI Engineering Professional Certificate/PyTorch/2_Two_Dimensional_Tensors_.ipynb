{
  "nbformat": 4,
  "nbformat_minor": 0,
  "metadata": {
    "colab": {
      "name": "2. Two-Dimensional Tensors .ipynb",
      "provenance": [],
      "collapsed_sections": []
    },
    "kernelspec": {
      "name": "python3",
      "display_name": "Python 3"
    },
    "language_info": {
      "name": "python"
    }
  },
  "cells": [
    {
      "cell_type": "code",
      "execution_count": 2,
      "metadata": {
        "id": "bxTkv_CPVaKn"
      },
      "outputs": [],
      "source": [
        "import numpy as np\n",
        "import matplotlib.pyplot as plt\n",
        "import torch\n",
        "import pandas as pd"
      ]
    },
    {
      "cell_type": "code",
      "source": [
        "# Convert 2D List to 2D Tensor\n",
        "two_d_list=[[11,12,13,14],[21,22,23,24],[31,32,33,34]]\n",
        "print(\"2D list:\", two_d_list)\n",
        "two_d_tensor=torch.tensor(two_d_list)\n",
        "print(\"2D list:\", two_d_tensor)"
      ],
      "metadata": {
        "colab": {
          "base_uri": "https://localhost:8080/"
        },
        "id": "ptn_Mk_vV_MF",
        "outputId": "aec2132f-1353-48c5-b6b2-f6ff23dbb8b8"
      },
      "execution_count": 4,
      "outputs": [
        {
          "output_type": "stream",
          "name": "stdout",
          "text": [
            "2D list: [[11, 12, 13, 14], [21, 22, 23, 24], [31, 32, 33, 34]]\n",
            "2D list: tensor([[11, 12, 13, 14],\n",
            "        [21, 22, 23, 24],\n",
            "        [31, 32, 33, 34]])\n"
          ]
        }
      ]
    },
    {
      "cell_type": "code",
      "source": [
        "# Try tensor_obj.ndimension(), tensor_obj.shape, tensor_obj.size()\n",
        "\n",
        "print(\"Dimension of tensor:\", two_d_tensor.ndimension())\n",
        "print(\"shape of tesnor:\", two_d_tensor.shape)\n",
        "print(\"Size of tesnor:\", two_d_tensor.size())\n",
        "print(\"Type of tensor:\", two_d_tensor.type())\n",
        "print(\"Dtype of tesnor:\", two_d_tensor.dtype)"
      ],
      "metadata": {
        "colab": {
          "base_uri": "https://localhost:8080/"
        },
        "id": "cc3ooMH5ZgyK",
        "outputId": "8c555981-ae7a-42b2-be01-a9a4215303a6"
      },
      "execution_count": 6,
      "outputs": [
        {
          "output_type": "stream",
          "name": "stdout",
          "text": [
            "Dimension of tensor: 2\n",
            "shape of tesnor: torch.Size([3, 4])\n",
            "Size of tesnor: torch.Size([3, 4])\n",
            "Type of tensor: torch.LongTensor\n",
            "Dtype of tesnor: torch.int64\n"
          ]
        }
      ]
    },
    {
      "cell_type": "code",
      "source": [
        "# Convert tensor to numpy array; Convert numpy array to tensor\n",
        "convert_to_numpy=two_d_tensor.numpy()\n",
        "print(\"Tensor -> Numpy Array:\")\n",
        "print(\"The numpy array after converting: \", convert_to_numpy)\n",
        "print(\"Type after converting: \", convert_to_numpy.dtype)\n",
        "\n",
        "#Converting back to tesnor\n",
        "back_to_tensor=torch.from_numpy(convert_to_numpy)\n",
        "print(\"\\n\\n Numpy Array --> Tensor\")\n",
        "print(\"The numpy array after converting: \", back_to_tensor)\n",
        "print(\"Type after converting: \", back_to_tensor.dtype)\n",
        "\n"
      ],
      "metadata": {
        "colab": {
          "base_uri": "https://localhost:8080/"
        },
        "id": "-j0ZW0vwaJqt",
        "outputId": "388b260e-ff0e-4f74-f7b1-748284b0111c"
      },
      "execution_count": 10,
      "outputs": [
        {
          "output_type": "stream",
          "name": "stdout",
          "text": [
            "Tensor -> Numpy Array:\n",
            "The numpy array after converting:  [[11 12 13 14]\n",
            " [21 22 23 24]\n",
            " [31 32 33 34]]\n",
            "Type after converting:  int64\n",
            "\n",
            "\n",
            " Numpy Array --> Tensor\n",
            "The numpy array after converting:  tensor([[11, 12, 13, 14],\n",
            "        [21, 22, 23, 24],\n",
            "        [31, 32, 33, 34]])\n",
            "Type after converting:  torch.int64\n"
          ]
        }
      ]
    },
    {
      "cell_type": "code",
      "source": [
        "# Try to convert the Panda Dataframe to tensor\n",
        "\n",
        "dataframe=pd.DataFrame({\"a\":[11,21,31],\"b\":[12,22,32],\"c\":[13,23,33]})\n",
        "print(\"Dataframe\")\n",
        "print(\"Dataframe value:\", dataframe)\n",
        "print(\"Dataframe type:\", dataframe.values.dtype)\n",
        "\n",
        "new_tensor=torch.from_numpy(dataframe.values)\n",
        "print(\"\\n\\nTensor\")\n",
        "print(\"Tensor value:\", new_tensor)\n",
        "print(\"new_tensor type:\", new_tensor.dtype)\n"
      ],
      "metadata": {
        "colab": {
          "base_uri": "https://localhost:8080/"
        },
        "id": "GDb6CzrYbosj",
        "outputId": "b565bff7-f3e3-4f31-eba1-d8ace1640591"
      },
      "execution_count": 19,
      "outputs": [
        {
          "output_type": "stream",
          "name": "stdout",
          "text": [
            "Dataframe\n",
            "Dataframe value:     a   b   c\n",
            "0  11  12  13\n",
            "1  21  22  23\n",
            "2  31  32  33\n",
            "Dataframe type: int64\n",
            "\n",
            "\n",
            "Tensor\n",
            "Tensor value: tensor([[11, 12, 13],\n",
            "        [21, 22, 23],\n",
            "        [31, 32, 33]])\n",
            "new_tensor type: torch.int64\n"
          ]
        }
      ]
    },
    {
      "cell_type": "markdown",
      "source": [
        "## Indexing and Slicing"
      ],
      "metadata": {
        "id": "LvJsT3VqrLTb"
      }
    },
    {
      "cell_type": "code",
      "source": [
        "tensor_example=torch.tensor([[11,12,13],[21,22,23],[31,32,33]])\n",
        "print(\"Tesnor:\", tensor_example)\n",
        "\n",
        "print(\"What is the value on 2nd-row 3rd-column? \", tensor_example[1][2])\n",
        "print(\"What is the value on 2nd-row 3rd-column? \",tensor_example[1,2])"
      ],
      "metadata": {
        "colab": {
          "base_uri": "https://localhost:8080/"
        },
        "id": "JncZzTt6rOwg",
        "outputId": "220fcbd9-edbe-4e30-a577-d96e627cea62"
      },
      "execution_count": 22,
      "outputs": [
        {
          "output_type": "stream",
          "name": "stdout",
          "text": [
            "Tesnor: tensor([[11, 12, 13],\n",
            "        [21, 22, 23],\n",
            "        [31, 32, 33]])\n",
            "What is the value on 2nd-row 3rd-column?  tensor(23)\n",
            "What is the value on 2nd-row 3rd-column?  tensor(23)\n"
          ]
        }
      ]
    },
    {
      "cell_type": "code",
      "source": [
        "# Give an idea on tensor_obj[number: number][number]\n",
        "\n",
        "tensor_example = torch.tensor([[11, 12, 13], [21, 22, 23], [31, 32, 33]])\n",
        "print(\"Tensor:\", tensor_example)\n",
        "sliced_tensor_example =tensor_example[1:3]\n",
        "print(\"Result after tensor_example[1:3]: \",sliced_tensor_example)\n",
        "print(\"Dimension after tensor_example[1:3]: \", sliced_tensor_example.ndimension())\n",
        "print(\"================================================\")\n",
        "print(\"2. Pick an index on sliced_tensor_example: \")\n",
        "print(\"Result after sliced_tensor_example[1]: \", tensor_example[1])\n",
        "print(\"Dimension after sliced_tensor_example[1]: \", tensor_example[1].ndimension())\n",
        "print(\"Shape after sliced_tensor_example[1]: \", tensor_example[1].shape)\n",
        "print(\"================================================\")\n",
        "print(\"3. Combine these step together:\")\n",
        "print(\"Result: \", tensor_example[1:3][1])\n",
        "print(\"Dimension: \", tensor_example[1:3][1].ndimension())\n",
        "print(\"Shape after sliced_tensor_example[1]: \", tensor_example[1:3][1].shape)\n"
      ],
      "metadata": {
        "colab": {
          "base_uri": "https://localhost:8080/"
        },
        "id": "66Hd9bAgdQzF",
        "outputId": "466dbe84-d54f-4056-c9b8-6fb90885f9b4"
      },
      "execution_count": 45,
      "outputs": [
        {
          "output_type": "stream",
          "name": "stdout",
          "text": [
            "Tensor: tensor([[11, 12, 13],\n",
            "        [21, 22, 23],\n",
            "        [31, 32, 33]])\n",
            "Result after tensor_example[1:3]:  tensor([[21, 22, 23],\n",
            "        [31, 32, 33]])\n",
            "Dimension after tensor_example[1:3]:  2\n",
            "================================================\n",
            "2. Pick an index on sliced_tensor_example: \n",
            "Result after sliced_tensor_example[1]:  tensor([21, 22, 23])\n",
            "Dimension after sliced_tensor_example[1]:  1\n",
            "Shape after sliced_tensor_example[1]:  torch.Size([3])\n",
            "================================================\n",
            "3. Combine these step together:\n",
            "Result:  tensor([31, 32, 33])\n",
            "Dimension:  1\n",
            "Shape after sliced_tensor_example[1]:  torch.Size([3])\n"
          ]
        }
      ]
    },
    {
      "cell_type": "markdown",
      "source": [
        "## Tensor Operations"
      ],
      "metadata": {
        "id": "mHAeROmP5qme"
      }
    },
    {
      "cell_type": "code",
      "source": [
        "X = torch.tensor([[1, 0],[0, 1]]) \n",
        "Y = torch.tensor([[2, 1],[1, 2]])\n",
        "\n",
        "x_plus_Y=X+Y\n",
        "print(x_plus_Y)"
      ],
      "metadata": {
        "colab": {
          "base_uri": "https://localhost:8080/"
        },
        "id": "_EcbCRou5sFQ",
        "outputId": "8d33ec07-ca5b-43d6-d6ed-eaa5bf6c18d3"
      },
      "execution_count": 49,
      "outputs": [
        {
          "output_type": "stream",
          "name": "stdout",
          "text": [
            "tensor([[3, 1],\n",
            "        [1, 3]])\n"
          ]
        }
      ]
    },
    {
      "cell_type": "code",
      "source": [
        "Y = torch.tensor([[2, 1], [1, 2]]) \n",
        "two_Y = 2 * Y\n",
        "print(\"The result of 2Y: \", two_Y)"
      ],
      "metadata": {
        "colab": {
          "base_uri": "https://localhost:8080/"
        },
        "id": "qx3LBDxw0Fg0",
        "outputId": "d50f4343-51fb-4327-dd95-c6241002c736"
      },
      "execution_count": 50,
      "outputs": [
        {
          "output_type": "stream",
          "name": "stdout",
          "text": [
            "The result of 2Y:  tensor([[4, 2],\n",
            "        [2, 4]])\n"
          ]
        }
      ]
    },
    {
      "cell_type": "code",
      "source": [
        "# Calculate [[1, 0], [0, 1]] * [[2, 1], [1, 2]]\n",
        "\n",
        "X = torch.tensor([[1, 0], [0, 1]])\n",
        "Y = torch.tensor([[2, 1], [1, 2]]) \n",
        "X_times_Y = X * Y\n",
        "print(\"The result of X * Y: \", X_times_Y)"
      ],
      "metadata": {
        "colab": {
          "base_uri": "https://localhost:8080/"
        },
        "id": "Ehf6pP147Xsc",
        "outputId": "fab1e59d-e411-4b2d-c49c-7e92cee571bd"
      },
      "execution_count": 51,
      "outputs": [
        {
          "output_type": "stream",
          "name": "stdout",
          "text": [
            "The result of X * Y:  tensor([[2, 0],\n",
            "        [0, 2]])\n"
          ]
        }
      ]
    },
    {
      "cell_type": "code",
      "source": [
        "# Calculate [[0, 1, 1], [1, 0, 1]] * [[1, 1], [1, 1], [-1, 1]]\n",
        "\n",
        "A = torch.tensor([[0, 1, 1], [1, 0, 1]])\n",
        "B = torch.tensor([[1, 1], [1, 1], [-1, 1]])\n",
        "A_times_B = torch.mm(A,B)\n",
        "print(\"The result of A * B: \", A_times_B)"
      ],
      "metadata": {
        "colab": {
          "base_uri": "https://localhost:8080/"
        },
        "id": "C9Bftwdx7cWA",
        "outputId": "d2f9dd62-26c2-4a68-af62-312071524593"
      },
      "execution_count": 52,
      "outputs": [
        {
          "output_type": "stream",
          "name": "stdout",
          "text": [
            "The result of A * B:  tensor([[0, 2],\n",
            "        [0, 2]])\n"
          ]
        }
      ]
    },
    {
      "cell_type": "code",
      "source": [
        ""
      ],
      "metadata": {
        "id": "7z2TmnDl7jCC"
      },
      "execution_count": null,
      "outputs": []
    }
  ]
}