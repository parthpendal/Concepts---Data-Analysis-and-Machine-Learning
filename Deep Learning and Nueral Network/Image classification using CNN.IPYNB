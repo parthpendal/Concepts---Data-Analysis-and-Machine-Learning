{
 "cells": [
  {
   "cell_type": "code",
   "execution_count": 66,
   "metadata": {},
   "outputs": [],
   "source": [
    "import tensorflow as tf\n",
    "from tensorflow.keras import datasets,layers,models\n",
    "from tensorflow import keras\n",
    "import matplotlib.pyplot as plt\n",
    "import numpy as np"
   ]
  },
  {
   "cell_type": "code",
   "execution_count": 4,
   "metadata": {},
   "outputs": [
    {
     "name": "stdout",
     "output_type": "stream",
     "text": [
      "Downloading data from https://www.cs.toronto.edu/~kriz/cifar-10-python.tar.gz\n",
      "170500096/170498071 [==============================] - 466s 3us/step\n"
     ]
    }
   ],
   "source": [
    "(x_train, y_train), (x_test, y_test)=datasets.cifar10.load_data()"
   ]
  },
  {
   "cell_type": "code",
   "execution_count": 5,
   "metadata": {},
   "outputs": [
    {
     "data": {
      "text/plain": [
       "(50000, 32, 32, 3)"
      ]
     },
     "execution_count": 5,
     "metadata": {},
     "output_type": "execute_result"
    }
   ],
   "source": [
    "x_train.shape"
   ]
  },
  {
   "cell_type": "code",
   "execution_count": 51,
   "metadata": {},
   "outputs": [],
   "source": [
    "def plot_image(x,y,index):\n",
    "    classes=['airoplane','automobile','bird','cat','deer','dog','frog','horse','ship','truck']\n",
    "    plt.figure(figsize=(1,1))\n",
    "    plt.imshow(x[index])\n",
    "    plt.xlabel(classes[y[index][0]])"
   ]
  },
  {
   "cell_type": "code",
   "execution_count": 37,
   "metadata": {},
   "outputs": [
    {
     "data": {
      "image/png": "[encoded data removed]",
      "text/plain": [
       "<Figure size 72x72 with 1 Axes>"
      ]
     },
     "metadata": {
      "needs_background": "light"
     },
     "output_type": "display_data"
    }
   ],
   "source": [
    "plot_image(x_train,y_train,5)"
   ]
  },
  {
   "cell_type": "code",
   "execution_count": 38,
   "metadata": {},
   "outputs": [
    {
     "data": {
      "image/png": "[encoded data removed]",
      "text/plain": [
       "<Figure size 72x72 with 1 Axes>"
      ]
     },
     "metadata": {
      "needs_background": "light"
     },
     "output_type": "display_data"
    }
   ],
   "source": [
    "plot_image(x_train,y_train,6)"
   ]
  },
  {
   "cell_type": "code",
   "execution_count": 56,
   "metadata": {},
   "outputs": [
    {
     "data": {
      "image/png": "[encoded data removed]",
      "text/plain": [
       "<Figure size 72x72 with 1 Axes>"
      ]
     },
     "metadata": {
      "needs_background": "light"
     },
     "output_type": "display_data"
    }
   ],
   "source": [
    "plot_image(x_train,y_train,16)"
   ]
  },
  {
   "cell_type": "code",
   "execution_count": 58,
   "metadata": {},
   "outputs": [
    {
     "data": {
      "image/png": "[encoded data removed]",
      "text/plain": [
       "<Figure size 72x72 with 1 Axes>"
      ]
     },
     "metadata": {
      "needs_background": "light"
     },
     "output_type": "display_data"
    }
   ],
   "source": [
    "plot_image(x_train,y_train,20)"
   ]
  },
  {
   "cell_type": "code",
   "execution_count": 59,
   "metadata": {},
   "outputs": [],
   "source": [
    "x_train=x_train/255\n",
    "x_test=x_test/255"
   ]
  },
  {
   "cell_type": "code",
   "execution_count": 63,
   "metadata": {},
   "outputs": [
    {
     "data": {
      "text/plain": [
       "(50000, 32, 32, 3)"
      ]
     },
     "execution_count": 63,
     "metadata": {},
     "output_type": "execute_result"
    }
   ],
   "source": [
    "x_train.shape"
   ]
  },
  {
   "cell_type": "markdown",
   "metadata": {},
   "source": [
    "# Classification with Artificial Nural Network"
   ]
  },
  {
   "cell_type": "code",
   "execution_count": 72,
   "metadata": {},
   "outputs": [
    {
     "name": "stdout",
     "output_type": "stream",
     "text": [
      "Epoch 1/5\n",
      "1563/1563 [==============================] - 101s 65ms/step - loss: 1.9378 - accuracy: 0.3011\n",
      "Epoch 2/5\n",
      "1563/1563 [==============================] - 99s 64ms/step - loss: 1.6620 - accuracy: 0.40740s - loss: 1.6621 - \n",
      "Epoch 3/5\n",
      "1563/1563 [==============================] - 96s 62ms/step - loss: 1.5761 - accuracy: 0.4428\n",
      "Epoch 4/5\n",
      "1563/1563 [==============================] - 97s 62ms/step - loss: 1.5110 - accuracy: 0.46450s - loss: 1\n",
      "Epoch 5/5\n",
      "1563/1563 [==============================] - 103s 66ms/step - loss: 1.4674 - accuracy: 0.4794\n"
     ]
    },
    {
     "data": {
      "text/plain": [
       "<tensorflow.python.keras.callbacks.History at 0x215f7c9ec48>"
      ]
     },
     "execution_count": 72,
     "metadata": {},
     "output_type": "execute_result"
    }
   ],
   "source": [
    "ANN = keras.Sequential ([\n",
    "    keras.layers.Flatten(input_shape=(32, 32, 3)),\n",
    "    keras.layers.Dense(3072,activation='relu'),\n",
    "    keras.layers.Dense(100,activation='relu'),\n",
    "    keras.layers.Dense(10,activation='sigmoid')\n",
    "    ])\n",
    "ANN.compile(optimizer='SGD',\n",
    "            loss='sparse_categorical_crossentropy',\n",
    "            metrics=['accuracy']\n",
    "           )\n",
    "ANN.fit(x_train,y_train,epochs=5)"
   ]
  },
  {
   "cell_type": "code",
   "execution_count": 73,
   "metadata": {},
   "outputs": [
    {
     "name": "stdout",
     "output_type": "stream",
     "text": [
      "313/313 [==============================] - 5s 16ms/step - loss: 1.5150 - accuracy: 0.4575\n"
     ]
    },
    {
     "data": {
      "text/plain": [
       "[1.5150420665740967, 0.45750001072883606]"
      ]
     },
     "execution_count": 73,
     "metadata": {},
     "output_type": "execute_result"
    }
   ],
   "source": [
    "ANN.evaluate(x_test,y_test)"
   ]
  },
  {
   "cell_type": "code",
   "execution_count": 77,
   "metadata": {},
   "outputs": [],
   "source": [
    "yp=ANN.predict(x_test)"
   ]
  },
  {
   "cell_type": "code",
   "execution_count": 80,
   "metadata": {},
   "outputs": [
    {
     "data": {
      "text/plain": [
       "[3, 8, 8, 8, 4]"
      ]
     },
     "execution_count": 80,
     "metadata": {},
     "output_type": "execute_result"
    }
   ],
   "source": [
    "y_test_predict=[np.argmax(x) for x in yp]    \n",
    "y_test_predict[:5]"
   ]
  },
  {
   "cell_type": "code",
   "execution_count": 76,
   "metadata": {},
   "outputs": [],
   "source": [
    "from sklearn.metrics import classification_report"
   ]
  },
  {
   "cell_type": "code",
   "execution_count": 82,
   "metadata": {
    "scrolled": true
   },
   "outputs": [
    {
     "name": "stdout",
     "output_type": "stream",
     "text": [
      "              precision    recall  f1-score   support\n",
      "\n",
      "           0       0.39      0.66      0.49      1000\n",
      "           1       0.46      0.72      0.56      1000\n",
      "           2       0.39      0.28      0.33      1000\n",
      "           3       0.36      0.26      0.30      1000\n",
      "           4       0.44      0.38      0.41      1000\n",
      "           5       0.39      0.39      0.39      1000\n",
      "           6       0.57      0.43      0.49      1000\n",
      "           7       0.67      0.41      0.50      1000\n",
      "           8       0.47      0.69      0.56      1000\n",
      "           9       0.56      0.36      0.44      1000\n",
      "\n",
      "    accuracy                           0.46     10000\n",
      "   macro avg       0.47      0.46      0.45     10000\n",
      "weighted avg       0.47      0.46      0.45     10000\n",
      "\n"
     ]
    }
   ],
   "source": [
    "print(classification_report(y_test,y_test_predict))"
   ]
  },
  {
   "cell_type": "markdown",
   "metadata": {},
   "source": [
    "# Classification with Convolution Nural Network"
   ]
  },
  {
   "cell_type": "code",
   "execution_count": 85,
   "metadata": {},
   "outputs": [
    {
     "name": "stdout",
     "output_type": "stream",
     "text": [
      "Epoch 1/5\n",
      "1563/1563 [==============================] - 218s 138ms/step - loss: 1.5919 - accuracy: 0.4116\n",
      "Epoch 2/5\n",
      "1563/1563 [==============================] - 205s 131ms/step - loss: 0.9635 - accuracy: 0.6636\n",
      "Epoch 3/5\n",
      "1563/1563 [==============================] - 207s 132ms/step - loss: 0.7221 - accuracy: 0.7457\n",
      "Epoch 4/5\n",
      "1563/1563 [==============================] - 213s 136ms/step - loss: 0.4958 - accuracy: 0.8272\n",
      "Epoch 5/5\n",
      "1563/1563 [==============================] - 211s 135ms/step - loss: 0.3031 - accuracy: 0.8984\n"
     ]
    },
    {
     "data": {
      "text/plain": [
       "<tensorflow.python.keras.callbacks.History at 0x21652793888>"
      ]
     },
     "execution_count": 85,
     "metadata": {},
     "output_type": "execute_result"
    }
   ],
   "source": [
    "CNN = keras.Sequential ([\n",
    "    keras.layers.Conv2D(filters=32, activation='relu',kernel_size=(3,3), input_shape=(32,32,3)),\n",
    "    keras.layers.MaxPooling2D((2,2)),\n",
    "    \n",
    "    keras.layers.Conv2D(filters=64, activation='relu',kernel_size=(3,3)),\n",
    "    keras.layers.MaxPooling2D((2,2)),\n",
    "    \n",
    "\n",
    "    keras.layers.Flatten(input_shape=(32, 32, 3)),\n",
    "    keras.layers.Dense(3072,activation='relu'),\n",
    "    keras.layers.Dense(100,activation='relu'),\n",
    "    keras.layers.Dense(10,activation='softmax')\n",
    "    ])\n",
    "CNN.compile(optimizer='adam',\n",
    "            loss='sparse_categorical_crossentropy',\n",
    "            metrics=['accuracy']\n",
    "           )\n",
    "CNN.fit(x_train,y_train,epochs=5)"
   ]
  },
  {
   "cell_type": "code",
   "execution_count": 86,
   "metadata": {},
   "outputs": [
    {
     "name": "stdout",
     "output_type": "stream",
     "text": [
      "313/313 [==============================] - 8s 25ms/step - loss: 1.0060 - accuracy: 0.7147\n"
     ]
    },
    {
     "data": {
      "text/plain": [
       "[1.0059876441955566, 0.7146999835968018]"
      ]
     },
     "execution_count": 86,
     "metadata": {},
     "output_type": "execute_result"
    }
   ],
   "source": [
    "CNN.evaluate(x_test,y_test)"
   ]
  },
  {
   "cell_type": "code",
   "execution_count": 87,
   "metadata": {},
   "outputs": [],
   "source": [
    "yp=CNN.predict(x_test)"
   ]
  },
  {
   "cell_type": "code",
   "execution_count": 88,
   "metadata": {},
   "outputs": [
    {
     "data": {
      "text/plain": [
       "array([[7.7046041e-04, 3.4133458e-04, 1.4187873e-03, 8.6595756e-01,\n",
       "        1.2728387e-03, 1.2001855e-01, 5.2032719e-04, 1.9077399e-04,\n",
       "        9.3858922e-03, 1.2356238e-04],\n",
       "       [1.6153971e-02, 5.0180491e-02, 4.1723756e-06, 2.8966613e-05,\n",
       "        1.8991326e-06, 1.9395061e-06, 1.5702017e-06, 5.3741059e-07,\n",
       "        9.3176204e-01, 1.8643878e-03],\n",
       "       [9.9778362e-03, 3.9425097e-02, 1.1747943e-04, 1.3756131e-04,\n",
       "        4.6863887e-04, 9.5107944e-06, 1.7601927e-06, 1.5171530e-05,\n",
       "        9.4011253e-01, 9.7344341e-03],\n",
       "       [9.9879885e-01, 1.8507486e-05, 9.5854775e-05, 7.1681080e-07,\n",
       "        5.5293704e-06, 1.0711075e-07, 1.3319372e-07, 2.5081004e-06,\n",
       "        1.0124398e-03, 6.5523251e-05],\n",
       "       [5.4670102e-07, 6.1603168e-07, 8.5125063e-03, 4.7751699e-02,\n",
       "        9.1209322e-01, 7.6719117e-04, 3.0870652e-02, 8.3358060e-07,\n",
       "        2.6584196e-06, 6.0760257e-08]], dtype=float32)"
      ]
     },
     "execution_count": 88,
     "metadata": {},
     "output_type": "execute_result"
    }
   ],
   "source": [
    "yp[:5]"
   ]
  },
  {
   "cell_type": "code",
   "execution_count": 89,
   "metadata": {},
   "outputs": [],
   "source": [
    "y_test_predict=[np.argmax(x) for x in yp]"
   ]
  },
  {
   "cell_type": "code",
   "execution_count": 91,
   "metadata": {},
   "outputs": [
    {
     "data": {
      "text/plain": [
       "[3, 8, 8, 0, 4, 6, 5, 2, 3, 1]"
      ]
     },
     "execution_count": 91,
     "metadata": {},
     "output_type": "execute_result"
    }
   ],
   "source": [
    "y_test_predict[:10]"
   ]
  },
  {
   "cell_type": "code",
   "execution_count": 95,
   "metadata": {},
   "outputs": [
    {
     "data": {
      "text/plain": [
       "array([3, 8, 8, 0, 6, 6, 1, 6, 3, 1], dtype=uint8)"
      ]
     },
     "execution_count": 95,
     "metadata": {},
     "output_type": "execute_result"
    }
   ],
   "source": [
    "y_test[:10].reshape(-1,)"
   ]
  },
  {
   "cell_type": "code",
   "execution_count": 180,
   "metadata": {},
   "outputs": [
    {
     "data": {
      "image/png": "[encoded data removed]",
      "text/plain": [
       "<Figure size 72x72 with 1 Axes>"
      ]
     },
     "metadata": {
      "needs_background": "light"
     },
     "output_type": "display_data"
    },
    {
     "data": {
      "image/png": "[encoded data removed]",
      "text/plain": [
       "<Figure size 72x72 with 1 Axes>"
      ]
     },
     "metadata": {
      "needs_background": "light"
     },
     "output_type": "display_data"
    }
   ],
   "source": [
    "classes=['airoplane','automobile','bird','cat','deer','dog','frog','horse','ship','truck']\n",
    "xx=31\n",
    "plt.figure(figsize=(1,1))\n",
    "plt.imshow(x_test[xx])\n",
    "plt.xlabel(classes[y_test[xx][0]])\n",
    "plt.show()\n",
    "plt.figure(figsize=(1,1))\n",
    "plt.imshow(x_test[xx])\n",
    "plt.xlabel(classes[y_test_predict[xx]])\n",
    "plt.show()"
   ]
  },
  {
   "cell_type": "code",
   "execution_count": 181,
   "metadata": {},
   "outputs": [
    {
     "name": "stdout",
     "output_type": "stream",
     "text": [
      "              precision    recall  f1-score   support\n",
      "\n",
      "           0       0.67      0.83      0.74      1000\n",
      "           1       0.82      0.84      0.83      1000\n",
      "           2       0.64      0.61      0.63      1000\n",
      "           3       0.57      0.50      0.53      1000\n",
      "           4       0.64      0.71      0.67      1000\n",
      "           5       0.58      0.69      0.63      1000\n",
      "           6       0.90      0.69      0.78      1000\n",
      "           7       0.85      0.68      0.75      1000\n",
      "           8       0.79      0.82      0.81      1000\n",
      "           9       0.77      0.79      0.78      1000\n",
      "\n",
      "    accuracy                           0.71     10000\n",
      "   macro avg       0.72      0.71      0.71     10000\n",
      "weighted avg       0.72      0.71      0.71     10000\n",
      "\n"
     ]
    }
   ],
   "source": [
    "print(classification_report(y_test,y_test_predict))"
   ]
  },
  {
   "cell_type": "code",
   "execution_count": null,
   "metadata": {},
   "outputs": [],
   "source": []
  }
 ],
 "metadata": {
  "kernelspec": {
   "display_name": "Python 3",
   "language": "python",
   "name": "python3"
  },
  "language_info": {
   "codemirror_mode": {
    "name": "ipython",
    "version": 3
   },
   "file_extension": ".py",
   "mimetype": "text/x-python",
   "name": "python",
   "nbconvert_exporter": "python",
   "pygments_lexer": "ipython3",
   "version": "3.7.6"
  }
 },
 "nbformat": 4,
 "nbformat_minor": 4
}
