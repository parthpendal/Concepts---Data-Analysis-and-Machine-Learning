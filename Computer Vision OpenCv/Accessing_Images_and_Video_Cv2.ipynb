{
  "nbformat": 4,
  "nbformat_minor": 0,
  "metadata": {
    "colab": {
      "name": "Accessing Images and Video Cv2.ipynb",
      "provenance": [],
      "collapsed_sections": []
    },
    "kernelspec": {
      "name": "python3",
      "display_name": "Python 3"
    },
    "language_info": {
      "name": "python"
    }
  },
  "cells": [
    {
      "cell_type": "code",
      "execution_count": null,
      "metadata": {
        "colab": {
          "base_uri": "https://localhost:8080/"
        },
        "id": "SdxQZ0TcSZLg",
        "outputId": "1d252f4d-d339-4599-a7d0-280931b7b1f7"
      },
      "outputs": [
        {
          "output_type": "stream",
          "name": "stdout",
          "text": [
            "Mounted at /content/gdrive\n"
          ]
        }
      ],
      "source": [
        "import cv2\n"
      ]
    },
    {
      "cell_type": "code",
      "source": [
        "#Accessing googledrive photos\n",
        "from google.colab import drive\n",
        "drive.mount('/content/gdrive')"
      ],
      "metadata": {
        "colab": {
          "base_uri": "https://localhost:8080/"
        },
        "id": "AonTLwXeTv2H",
        "outputId": "099bd29b-891a-4d34-8e0a-74fba59c6a93"
      },
      "execution_count": null,
      "outputs": [
        {
          "output_type": "stream",
          "name": "stdout",
          "text": [
            "Drive already mounted at /content/gdrive; to attempt to forcibly remount, call drive.mount(\"/content/gdrive\", force_remount=True).\n"
          ]
        }
      ]
    },
    {
      "cell_type": "code",
      "source": [
        "import os\n",
        "datapath=\"/content/gdrive/MyDrive/Face Mask detection\"\n",
        "\n",
        "#Getting directory for folders\n",
        "folders=os.listdir(datapath)\n",
        "folders"
      ],
      "metadata": {
        "colab": {
          "base_uri": "https://localhost:8080/"
        },
        "id": "RrfkXDcaSbe0",
        "outputId": "9695ad58-fab3-45a0-d063-9ffc20f41fc3"
      },
      "execution_count": null,
      "outputs": [
        {
          "output_type": "execute_result",
          "data": {
            "text/plain": [
              "['with_mask', 'without_mask']"
            ]
          },
          "metadata": {},
          "execution_count": 3
        }
      ]
    },
    {
      "cell_type": "code",
      "source": [
        "#Getting path of first folder\n",
        "path_of_first_folder=os.path.join(datapath,folders[0])\n",
        "\n",
        "# Getting list of images name\n",
        "Image_name_list=os.listdir(path_of_first_folder)\n",
        "\n",
        "#Getting complete path of a image\n",
        "path_of_first_image=os.path.join(path_of_first_folder,Image_name_list[3])\n",
        "\n",
        "path_of_first_image"
      ],
      "metadata": {
        "colab": {
          "base_uri": "https://localhost:8080/",
          "height": 35
        },
        "id": "3Z6YLfcbSsPP",
        "outputId": "0c2cd65e-44c0-4efa-eb20-4e15637913cf"
      },
      "execution_count": null,
      "outputs": [
        {
          "output_type": "execute_result",
          "data": {
            "application/vnd.google.colaboratory.intrinsic+json": {
              "type": "string"
            },
            "text/plain": [
              "'/content/gdrive/MyDrive/Face Mask detection/with_mask/1_0_15 copy.jpg'"
            ]
          },
          "metadata": {},
          "execution_count": 25
        }
      ]
    },
    {
      "cell_type": "markdown",
      "source": [
        "### Reading Images"
      ],
      "metadata": {
        "id": "FtS3vFpsb8p8"
      }
    },
    {
      "cell_type": "code",
      "source": [
        "#Reading first image\n",
        "first_read_image =cv2.imread(path_of_first_image)\n",
        "print(first_read_image.shape)\n",
        "first_read_image[:1]"
      ],
      "metadata": {
        "colab": {
          "base_uri": "https://localhost:8080/"
        },
        "id": "_dwd0Q-mVhmW",
        "outputId": "94226081-9418-493b-a63e-417a7f712aab"
      },
      "execution_count": null,
      "outputs": [
        {
          "output_type": "stream",
          "name": "stdout",
          "text": [
            "(104, 77, 3)\n"
          ]
        },
        {
          "output_type": "execute_result",
          "data": {
            "text/plain": [
              "array([[[ 17,   8,  34],\n",
              "        [ 27,  21,  44],\n",
              "        [ 39,  33,  56],\n",
              "        [ 16,  15,  35],\n",
              "        [  4,   4,  22],\n",
              "        [ 18,  22,  41],\n",
              "        [ 13,  15,  39],\n",
              "        [  8,  11,  39],\n",
              "        [ 25,  25,  61],\n",
              "        [ 39,  38,  77],\n",
              "        [ 60,  54,  95],\n",
              "        [ 73,  68, 107],\n",
              "        [107, 100, 135],\n",
              "        [130, 124, 155],\n",
              "        [158, 149, 175],\n",
              "        [174, 165, 185],\n",
              "        [190, 179, 195],\n",
              "        [202, 190, 202],\n",
              "        [212, 201, 211],\n",
              "        [222, 211, 221],\n",
              "        [229, 218, 228],\n",
              "        [230, 219, 229],\n",
              "        [232, 221, 231],\n",
              "        [234, 223, 233],\n",
              "        [234, 225, 235],\n",
              "        [236, 227, 237],\n",
              "        [238, 228, 240],\n",
              "        [239, 229, 241],\n",
              "        [236, 227, 240],\n",
              "        [233, 224, 237],\n",
              "        [228, 219, 232],\n",
              "        [224, 215, 228],\n",
              "        [222, 215, 228],\n",
              "        [223, 216, 229],\n",
              "        [225, 218, 231],\n",
              "        [225, 218, 231],\n",
              "        [226, 217, 230],\n",
              "        [226, 217, 230],\n",
              "        [224, 214, 230],\n",
              "        [220, 210, 226],\n",
              "        [218, 211, 226],\n",
              "        [215, 208, 223],\n",
              "        [215, 209, 226],\n",
              "        [217, 211, 228],\n",
              "        [212, 206, 225],\n",
              "        [207, 201, 220],\n",
              "        [204, 200, 219],\n",
              "        [199, 197, 216],\n",
              "        [196, 194, 213],\n",
              "        [195, 195, 213],\n",
              "        [190, 189, 209],\n",
              "        [195, 194, 214],\n",
              "        [190, 188, 210],\n",
              "        [197, 195, 217],\n",
              "        [193, 191, 213],\n",
              "        [191, 189, 211],\n",
              "        [185, 184, 204],\n",
              "        [185, 184, 204],\n",
              "        [175, 176, 196],\n",
              "        [181, 182, 202],\n",
              "        [175, 177, 201],\n",
              "        [165, 167, 191],\n",
              "        [174, 175, 201],\n",
              "        [173, 175, 199],\n",
              "        [156, 156, 180],\n",
              "        [153, 154, 175],\n",
              "        [152, 149, 175],\n",
              "        [137, 134, 160],\n",
              "        [124, 117, 144],\n",
              "        [119, 113, 138],\n",
              "        [100,  90, 113],\n",
              "        [ 83,  72,  92],\n",
              "        [ 79,  68,  84],\n",
              "        [ 65,  53,  65],\n",
              "        [ 53,  36,  49],\n",
              "        [ 47,  31,  42],\n",
              "        [ 61,  42,  57]]], dtype=uint8)"
            ]
          },
          "metadata": {},
          "execution_count": 26
        }
      ]
    },
    {
      "cell_type": "code",
      "source": [
        "#Showing first image\n",
        "\n",
        "#for jupitor notebook\n",
        "#cv2.imshow(first_read_image)\n",
        "\n",
        "#for google colab\n",
        "from google.colab.patches import cv2_imshow\n",
        "cv2_imshow(first_read_image)"
      ],
      "metadata": {
        "colab": {
          "base_uri": "https://localhost:8080/",
          "height": 121
        },
        "id": "4Q7Qj52jaIE-",
        "outputId": "8d481af3-9192-4afb-e4e7-5a7eb0362aab"
      },
      "execution_count": null,
      "outputs": [
        {
          "output_type": "display_data",
          "data": {
            "image/png": "[encoded data removed]",
            "text/plain": [
              "<PIL.Image.Image image mode=RGB size=77x104 at 0x7F12337E2290>"
            ]
          },
          "metadata": {}
        }
      ]
    },
    {
      "cell_type": "markdown",
      "source": [
        "### Reading Videos"
      ],
      "metadata": {
        "id": "nyl2eNxNcBLL"
      }
    },
    {
      "cell_type": "code",
      "source": [
        "#Reading a video- cv2.VideoCapture(x) where x is 0,1,2 for webcam. Also, you can gicve path of a video\n",
        "capture=cv2.VideoCapture('dog.mp4')\n",
        "capture\n",
        "\n"
      ],
      "metadata": {
        "colab": {
          "base_uri": "https://localhost:8080/"
        },
        "id": "qIOKmlG9aght",
        "outputId": "1cfe1074-10db-4437-90c6-e6fb509fc054"
      },
      "execution_count": null,
      "outputs": [
        {
          "output_type": "execute_result",
          "data": {
            "text/plain": [
              "<VideoCapture 0x7f12337e59f0>"
            ]
          },
          "metadata": {},
          "execution_count": 29
        }
      ]
    },
    {
      "cell_type": "code",
      "source": [
        "#Reading video is different than reading images\n",
        "#we read the video frame by frame hence we need to use infinite loop\n",
        "while True:\n",
        "  #isTrue is a bollean which gives information if sucess or fail\n",
        "  isTrue,frame=capture.read()\n",
        "  #For jupitor use cv2.imshow and google colab cv2_imshow\n",
        "  #cv2.imshow('Video',frame)\n",
        "  cv2_imshow(frame)\n",
        "\n",
        "  #If waited for miliseconds after video is complete or letter 'd' is pressed then go out of infinite loop\n",
        "  if cv2.waitKey(10) & 0xFF==ord('d'):\n",
        "    break\n",
        "#release the video\n",
        "capture.release()\n",
        "#close all window\n",
        "cv2.destroyAllWindows()"
      ],
      "metadata": {
        "id": "fXW3hGQAhg2T"
      },
      "execution_count": null,
      "outputs": []
    }
  ]
}