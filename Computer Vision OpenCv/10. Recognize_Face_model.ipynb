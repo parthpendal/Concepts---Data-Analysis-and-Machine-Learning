{
  "nbformat": 4,
  "nbformat_minor": 0,
  "metadata": {
    "colab": {
      "name": "Recognize Face model.ipynb",
      "provenance": [],
      "collapsed_sections": []
    },
    "kernelspec": {
      "name": "python3",
      "display_name": "Python 3"
    },
    "language_info": {
      "name": "python"
    }
  },
  "cells": [
    {
      "cell_type": "code",
      "execution_count": 98,
      "metadata": {
        "id": "i_wNXr80UPE9"
      },
      "outputs": [],
      "source": [
        "import cv2\n",
        "import os\n",
        "import numpy as np\n",
        "from google.colab.patches import cv2_imshow"
      ]
    },
    {
      "cell_type": "code",
      "source": [
        "from google.colab import drive\n",
        "drive.mount('/content/gdrive')\n",
        "datapath=\"/content/gdrive/MyDrive/Face Recog\"\n",
        "Actor_folders=os.listdir(datapath)\n",
        "print(Actor_folders)"
      ],
      "metadata": {
        "colab": {
          "base_uri": "https://localhost:8080/"
        },
        "id": "NS7BzQSoUif4",
        "outputId": "63eb91af-6c9c-4078-aac9-eea394f86726"
      },
      "execution_count": 99,
      "outputs": [
        {
          "output_type": "stream",
          "name": "stdout",
          "text": [
            "Drive already mounted at /content/gdrive; to attempt to forcibly remount, call drive.mount(\"/content/gdrive\", force_remount=True).\n",
            "['Tapsi', 'SRK', 'Salman', 'Deepika', 'Amitabh']\n"
          ]
        }
      ]
    },
    {
      "cell_type": "code",
      "source": [
        "haar_cascade=cv2.CascadeClassifier('haar_face.xml')"
      ],
      "metadata": {
        "id": "eOIlYzlhb_E9"
      },
      "execution_count": 100,
      "outputs": []
    },
    {
      "cell_type": "code",
      "source": [
        "data=[]\n",
        "label=[]\n",
        "label_1=[]\n",
        "\n",
        "#Get image face in grayscale in data dictionary and name of actor in label_1 dictionary\n",
        "for Actor_folder in Actor_folders:\n",
        "  folder_path=os.path.join(datapath,Actor_folder)\n",
        "  images=os.listdir(folder_path)\n",
        "  for image in images:\n",
        "    image_path=os.path.join(folder_path,image)\n",
        "    img_array=cv2.imread(image_path)\n",
        "    #convert to the gray scale\n",
        "    gray=cv2.cvtColor(img_array,cv2.COLOR_BGR2GRAY)\n",
        "    #detect face\n",
        "    faces_rect=haar_cascade.detectMultiScale(gray,scaleFactor=1.1,minNeighbors=4)\n",
        "\n",
        "    #Crop face\n",
        "    for x,y,w,h in faces_rect:\n",
        "      faces_roi=gray[y:y+h,x:x+w]\n",
        "      data.append(faces_roi)\n",
        "      label.append(Actor_folders.index(Actor_folder))\n",
        "      label_1.append(Actor_folder)\n",
        "\n"
      ],
      "metadata": {
        "id": "6WkOsWjCYHgZ"
      },
      "execution_count": 101,
      "outputs": []
    },
    {
      "cell_type": "code",
      "source": [
        "print(label)\n",
        "print(label_1)"
      ],
      "metadata": {
        "colab": {
          "base_uri": "https://localhost:8080/"
        },
        "id": "6tDD52hQdEkZ",
        "outputId": "05f1d6e7-5e19-4c2f-fddf-d2b1df4cb401"
      },
      "execution_count": 102,
      "outputs": [
        {
          "output_type": "stream",
          "name": "stdout",
          "text": [
            "[0, 0, 0, 0, 0, 0, 0, 0, 0, 0, 0, 0, 0, 0, 0, 0, 0, 0, 0, 1, 1, 1, 1, 1, 1, 1, 1, 1, 1, 1, 1, 1, 1, 1, 1, 1, 1, 1, 1, 1, 1, 1, 1, 1, 2, 2, 2, 2, 2, 2, 2, 2, 2, 2, 2, 2, 2, 2, 2, 2, 2, 3, 3, 3, 3, 3, 3, 3, 3, 3, 3, 3, 3, 3, 3, 3, 4, 4, 4, 4, 4, 4, 4, 4, 4, 4, 4, 4, 4, 4, 4, 4, 4, 4, 4, 4]\n",
            "['Tapsi', 'Tapsi', 'Tapsi', 'Tapsi', 'Tapsi', 'Tapsi', 'Tapsi', 'Tapsi', 'Tapsi', 'Tapsi', 'Tapsi', 'Tapsi', 'Tapsi', 'Tapsi', 'Tapsi', 'Tapsi', 'Tapsi', 'Tapsi', 'Tapsi', 'SRK', 'SRK', 'SRK', 'SRK', 'SRK', 'SRK', 'SRK', 'SRK', 'SRK', 'SRK', 'SRK', 'SRK', 'SRK', 'SRK', 'SRK', 'SRK', 'SRK', 'SRK', 'SRK', 'SRK', 'SRK', 'SRK', 'SRK', 'SRK', 'SRK', 'Salman', 'Salman', 'Salman', 'Salman', 'Salman', 'Salman', 'Salman', 'Salman', 'Salman', 'Salman', 'Salman', 'Salman', 'Salman', 'Salman', 'Salman', 'Salman', 'Salman', 'Deepika', 'Deepika', 'Deepika', 'Deepika', 'Deepika', 'Deepika', 'Deepika', 'Deepika', 'Deepika', 'Deepika', 'Deepika', 'Deepika', 'Deepika', 'Deepika', 'Deepika', 'Amitabh', 'Amitabh', 'Amitabh', 'Amitabh', 'Amitabh', 'Amitabh', 'Amitabh', 'Amitabh', 'Amitabh', 'Amitabh', 'Amitabh', 'Amitabh', 'Amitabh', 'Amitabh', 'Amitabh', 'Amitabh', 'Amitabh', 'Amitabh', 'Amitabh', 'Amitabh']\n"
          ]
        }
      ]
    },
    {
      "cell_type": "code",
      "source": [
        "data=np.array(data,dtype='object')\n",
        "label=np.array(label)\n",
        "\n",
        "#train face recognizer\n",
        "face_recognizer=cv2.face.LBPHFaceRecognizer_create()\n",
        "face_recognizer.train(data,label)\n",
        "\n",
        "\n",
        "#save trained model\n",
        "#face_recognizer.save(\"Face_trained.yml\")"
      ],
      "metadata": {
        "id": "K6OpMpqvgm9l"
      },
      "execution_count": 103,
      "outputs": []
    },
    {
      "cell_type": "code",
      "source": [
        "#Taking a picture to recognize\n",
        "img=cv2.imread(os.path.join(datapath,'Recog1.jpg'))\n",
        "gray=cv2.cvtColor(img,cv2.COLOR_BGR2GRAY)\n",
        "\n",
        "faces_rect=haar_cascade.detectMultiScale(gray,scaleFactor=1.1,minNeighbors=4)\n",
        "\n",
        "#Crop face\n",
        "for x,y,w,h in faces_rect:\n",
        "      face=gray[y:y+h,x:x+h]\n",
        "      cv2_imshow(face)\n",
        "      #Predicting the value\n",
        "      label,confidence =face_recognizer.predict(face)\n",
        "      print(Actor_folders[label],\": Confidence level is:\", confidence)"
      ],
      "metadata": {
        "id": "eZrxzi-biXrZ",
        "colab": {
          "base_uri": "https://localhost:8080/",
          "height": 122
        },
        "outputId": "5d13947b-24ca-42da-a17f-f30740a13442"
      },
      "execution_count": 113,
      "outputs": [
        {
          "output_type": "display_data",
          "data": {
            "image/png": "[encoded data removed]",
            "text/plain": [
              "<PIL.Image.Image image mode=L size=88x88 at 0x7F1EFEE39610>"
            ]
          },
          "metadata": {}
        },
        {
          "output_type": "stream",
          "name": "stdout",
          "text": [
            "Amitabh : Confidence level is: 101.68987912635858\n"
          ]
        }
      ]
    },
    {
      "cell_type": "code",
      "source": [
        ""
      ],
      "metadata": {
        "id": "wCfCoKybm3hN"
      },
      "execution_count": 104,
      "outputs": []
    }
  ]
}