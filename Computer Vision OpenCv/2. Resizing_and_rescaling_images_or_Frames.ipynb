{
  "nbformat": 4,
  "nbformat_minor": 0,
  "metadata": {
    "colab": {
      "name": "Resizing and rescaling images or Frames.ipynb",
      "provenance": [],
      "collapsed_sections": []
    },
    "kernelspec": {
      "name": "python3",
      "display_name": "Python 3"
    },
    "language_info": {
      "name": "python"
    }
  },
  "cells": [
    {
      "cell_type": "code",
      "execution_count": null,
      "metadata": {
        "id": "caDQIIElxDUD"
      },
      "outputs": [],
      "source": [
        "import cv2\n"
      ]
    },
    {
      "cell_type": "code",
      "source": [
        "#Accessing googledrive photos\n",
        "from google.colab import drive\n",
        "drive.mount('/content/gdrive')\n",
        "\n",
        "import os\n",
        "datapath=\"/content/gdrive/MyDrive/Face Mask detection\"\n",
        "\n",
        "#Getting directory for folders\n",
        "folders=os.listdir(datapath)\n",
        "\n",
        "#Getting path of first folder\n",
        "path_of_first_folder=os.path.join(datapath,folders[0])\n",
        "\n",
        "# Getting list of images name\n",
        "Image_name_list=os.listdir(path_of_first_folder)\n",
        "\n",
        "#Getting complete path of a image\n",
        "path_of_first_image=os.path.join(path_of_first_folder,Image_name_list[100])\n",
        "\n",
        "#Reading an image\n",
        "first_read_image =cv2.imread(path_of_first_image)\n",
        "\n",
        "first_read_image[:1]\n"
      ],
      "metadata": {
        "colab": {
          "base_uri": "https://localhost:8080/"
        },
        "id": "oV0EPhbVxFlu",
        "outputId": "3d57b9d6-d6bb-468f-be0f-58380ef6be70"
      },
      "execution_count": null,
      "outputs": [
        {
          "output_type": "stream",
          "name": "stdout",
          "text": [
            "Drive already mounted at /content/gdrive; to attempt to forcibly remount, call drive.mount(\"/content/gdrive\", force_remount=True).\n"
          ]
        },
        {
          "output_type": "execute_result",
          "data": {
            "text/plain": [
              "array([[[  4,   4,  10],\n",
              "        [  0,   1,   5],\n",
              "        [  3,   5,   5],\n",
              "        [  0,   5,   4],\n",
              "        [  1,   6,   7],\n",
              "        [  3,  11,  18],\n",
              "        [  0,   4,  21],\n",
              "        [  0,   5,  28],\n",
              "        [ 18,  36,  67],\n",
              "        [ 44,  66, 101],\n",
              "        [ 72,  95, 133],\n",
              "        [ 92, 118, 155],\n",
              "        [102, 127, 169],\n",
              "        [104, 129, 173],\n",
              "        [121, 144, 190],\n",
              "        [119, 142, 188],\n",
              "        [121, 147, 187],\n",
              "        [116, 141, 183],\n",
              "        [105, 130, 180],\n",
              "        [ 92, 117, 167],\n",
              "        [ 85, 109, 155],\n",
              "        [ 80, 103, 141],\n",
              "        [ 61,  80, 113],\n",
              "        [  0,   8,  31],\n",
              "        [ 11,  18,  35],\n",
              "        [  9,  12,  20],\n",
              "        [  8,   9,  13],\n",
              "        [ 35,  37,  38],\n",
              "        [ 47,  49,  57],\n",
              "        [ 21,  27,  34],\n",
              "        [  1,  11,  18],\n",
              "        [  0,   7,  11],\n",
              "        [ 11,  18,  21],\n",
              "        [ 11,  16,  17],\n",
              "        [  7,  11,  12],\n",
              "        [ 20,  25,  24],\n",
              "        [ 22,  25,  23],\n",
              "        [ 20,  23,  21],\n",
              "        [ 18,  21,  19],\n",
              "        [ 22,  25,  23],\n",
              "        [ 17,  22,  21]]], dtype=uint8)"
            ]
          },
          "metadata": {},
          "execution_count": 7
        }
      ]
    },
    {
      "cell_type": "code",
      "source": [
        "#for jupitor notebook\n",
        "#cv2.imshow(first_read_image)\n",
        "\n",
        "#for google colab\n",
        "from google.colab.patches import cv2_imshow\n",
        "cv2_imshow(first_read_image)\n",
        "first_read_image.shape"
      ],
      "metadata": {
        "colab": {
          "base_uri": "https://localhost:8080/",
          "height": 99
        },
        "id": "s_MjT0gMxHIY",
        "outputId": "2126ad95-7cf9-41bb-c953-55fd46f29757"
      },
      "execution_count": null,
      "outputs": [
        {
          "output_type": "display_data",
          "data": {
            "image/png": "[encoded data removed]",
            "text/plain": [
              "<PIL.Image.Image image mode=RGB size=41x65 at 0x7F5947A4A190>"
            ]
          },
          "metadata": {}
        },
        {
          "output_type": "execute_result",
          "data": {
            "text/plain": [
              "(65, 41, 3)"
            ]
          },
          "metadata": {},
          "execution_count": 11
        }
      ]
    },
    {
      "cell_type": "markdown",
      "source": [
        "### Rescale a picture of Frame"
      ],
      "metadata": {
        "id": "Ifymg7Ra45lG"
      }
    },
    {
      "cell_type": "code",
      "source": [
        "#Rescaleframe works only for video, image, live video from webcam\n",
        "def rescaleFrame(frame,scale=0.75):\n",
        "  width=int(frame.shape[1]*scale)\n",
        "  height=int(frame.shape[0]*scale)\n",
        "  dimensions =(width,height)\n",
        "\n",
        "  return cv2.resize(frame,dimensions,interpolation=cv2.INTER_AREA)\n"
      ],
      "metadata": {
        "id": "i7EU05h74-ND"
      },
      "execution_count": null,
      "outputs": []
    },
    {
      "cell_type": "code",
      "source": [
        "cv2_imshow(rescaleFrame(first_read_image))"
      ],
      "metadata": {
        "colab": {
          "base_uri": "https://localhost:8080/",
          "height": 65
        },
        "id": "VjTngGaS4Jog",
        "outputId": "a7b93e02-3857-4c03-c06a-9dbe3def972f"
      },
      "execution_count": null,
      "outputs": [
        {
          "output_type": "display_data",
          "data": {
            "image/png": "[encoded data removed]",
            "text/plain": [
              "<PIL.Image.Image image mode=RGB size=30x48 at 0x7F59430FD550>"
            ]
          },
          "metadata": {}
        }
      ]
    },
    {
      "cell_type": "markdown",
      "source": [
        "### Change resolution for video"
      ],
      "metadata": {
        "id": "HC9c2Vv9EUnl"
      }
    },
    {
      "cell_type": "code",
      "source": [
        "#This will work for live video only\n",
        "def changeRes(width, height):\n",
        "  capture.set(3,width)\n",
        "  capture.set(4,height)\n"
      ],
      "metadata": {
        "id": "CAX07L9wEYh2"
      },
      "execution_count": null,
      "outputs": []
    },
    {
      "cell_type": "code",
      "source": [
        ""
      ],
      "metadata": {
        "id": "HZqwYncf6IM-"
      },
      "execution_count": null,
      "outputs": []
    }
  ]
}