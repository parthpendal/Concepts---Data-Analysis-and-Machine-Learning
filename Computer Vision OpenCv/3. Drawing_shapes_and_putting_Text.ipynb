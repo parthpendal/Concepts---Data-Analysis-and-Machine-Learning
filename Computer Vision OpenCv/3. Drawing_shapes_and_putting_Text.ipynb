{
  "nbformat": 4,
  "nbformat_minor": 0,
  "metadata": {
    "colab": {
      "name": "Drawing shapes and putting Text.ipynb",
      "provenance": [],
      "collapsed_sections": []
    },
    "kernelspec": {
      "name": "python3",
      "display_name": "Python 3"
    },
    "language_info": {
      "name": "python"
    }
  },
  "cells": [
    {
      "cell_type": "code",
      "execution_count": null,
      "metadata": {
        "colab": {
          "base_uri": "https://localhost:8080/"
        },
        "id": "_zQ3J3BvFLPS",
        "outputId": "266edf28-55e4-476e-fb66-a25fe517c57f"
      },
      "outputs": [
        {
          "output_type": "stream",
          "name": "stdout",
          "text": [
            "Drive already mounted at /content/gdrive; to attempt to forcibly remount, call drive.mount(\"/content/gdrive\", force_remount=True).\n"
          ]
        },
        {
          "output_type": "execute_result",
          "data": {
            "text/plain": [
              "array([[[ 30,  24,  29],\n",
              "        [ 24,  17,  24],\n",
              "        [ 33,  27,  38],\n",
              "        [ 49,  45,  57],\n",
              "        [ 59,  55,  66],\n",
              "        [ 78,  79,  89],\n",
              "        [ 79,  81,  91],\n",
              "        [ 55,  61,  74],\n",
              "        [ 64,  68,  93],\n",
              "        [ 67,  70, 101],\n",
              "        [ 65,  69, 104],\n",
              "        [ 68,  72, 107],\n",
              "        [ 93,  97, 126],\n",
              "        [ 97, 102, 127],\n",
              "        [ 77,  82, 103],\n",
              "        [ 43,  47,  65],\n",
              "        [ 37,  39,  50],\n",
              "        [ 43,  44,  54],\n",
              "        [ 42,  42,  54],\n",
              "        [ 44,  44,  56],\n",
              "        [ 56,  52,  64],\n",
              "        [ 58,  54,  66],\n",
              "        [ 64,  57,  70],\n",
              "        [ 59,  56,  71],\n",
              "        [ 40,  39,  59],\n",
              "        [ 37,  43,  66],\n",
              "        [ 38,  48,  78],\n",
              "        [ 63,  76, 108],\n",
              "        [ 80,  94, 123],\n",
              "        [ 72,  84, 112],\n",
              "        [ 75,  81, 104],\n",
              "        [ 57,  62,  83],\n",
              "        [ 61,  61,  85],\n",
              "        [ 69,  69,  93],\n",
              "        [ 90,  91, 117],\n",
              "        [ 71,  73,  97],\n",
              "        [ 61,  63,  87],\n",
              "        [ 56,  60,  79],\n",
              "        [ 40,  45,  60],\n",
              "        [ 45,  51,  64],\n",
              "        [ 50,  53,  68],\n",
              "        [ 45,  47,  65],\n",
              "        [ 39,  38,  58],\n",
              "        [ 32,  31,  51],\n",
              "        [ 36,  31,  52],\n",
              "        [ 37,  34,  49],\n",
              "        [ 35,  31,  42],\n",
              "        [ 36,  35,  37],\n",
              "        [ 30,  28,  27],\n",
              "        [ 28,  29,  25],\n",
              "        [ 22,  23,  21],\n",
              "        [ 21,  25,  26],\n",
              "        [ 31,  34,  39],\n",
              "        [ 36,  39,  47],\n",
              "        [ 33,  35,  46],\n",
              "        [ 26,  28,  39],\n",
              "        [ 27,  29,  39],\n",
              "        [ 27,  29,  39],\n",
              "        [ 29,  31,  39],\n",
              "        [ 28,  30,  38],\n",
              "        [ 34,  37,  42],\n",
              "        [ 36,  39,  44],\n",
              "        [ 29,  34,  37],\n",
              "        [ 30,  35,  36],\n",
              "        [ 29,  33,  34],\n",
              "        [ 23,  28,  27],\n",
              "        [ 23,  27,  28],\n",
              "        [ 14,  18,  19],\n",
              "        [ 24,  25,  29],\n",
              "        [ 23,  24,  28],\n",
              "        [ 20,  19,  23],\n",
              "        [ 24,  23,  27],\n",
              "        [ 23,  22,  24],\n",
              "        [ 24,  23,  25],\n",
              "        [ 21,  21,  21],\n",
              "        [ 27,  27,  27],\n",
              "        [ 36,  35,  37],\n",
              "        [ 33,  32,  34],\n",
              "        [ 32,  31,  35],\n",
              "        [ 41,  40,  44],\n",
              "        [ 53,  52,  61],\n",
              "        [ 52,  51,  60],\n",
              "        [ 35,  35,  41],\n",
              "        [ 42,  42,  48],\n",
              "        [ 30,  31,  35],\n",
              "        [ 37,  38,  42],\n",
              "        [ 29,  31,  32],\n",
              "        [ 33,  35,  36],\n",
              "        [ 36,  38,  39],\n",
              "        [ 32,  34,  35],\n",
              "        [ 36,  38,  39],\n",
              "        [ 46,  48,  49],\n",
              "        [ 46,  45,  49],\n",
              "        [ 40,  39,  43],\n",
              "        [ 41,  40,  44]]], dtype=uint8)"
            ]
          },
          "metadata": {},
          "execution_count": 5
        }
      ],
      "source": [
        "import cv2\n",
        "\n",
        "#Accessing googledrive photos\n",
        "from google.colab import drive\n",
        "drive.mount('/content/gdrive')\n",
        "\n",
        "import os\n",
        "datapath=\"/content/gdrive/MyDrive/Face Mask detection\"\n",
        "\n",
        "#Getting directory for folders\n",
        "folders=os.listdir(datapath)\n",
        "\n",
        "#Getting path of first folder\n",
        "path_of_first_folder=os.path.join(datapath,folders[0])\n",
        "\n",
        "# Getting list of images name\n",
        "Image_name_list=os.listdir(path_of_first_folder)\n",
        "\n",
        "#Getting complete path of a image\n",
        "path_of_first_image=os.path.join(path_of_first_folder,Image_name_list[106])\n",
        "\n",
        "#Reading an image\n",
        "first_read_image =cv2.imread(path_of_first_image)\n",
        "\n",
        "first_read_image[:1]\n"
      ]
    },
    {
      "cell_type": "code",
      "source": [
        "#for jupitor notebook\n",
        "#cv2.imshow(first_read_image)\n",
        "\n",
        "#for google colab\n",
        "from google.colab.patches import cv2_imshow\n",
        "cv2_imshow(first_read_image)"
      ],
      "metadata": {
        "colab": {
          "base_uri": "https://localhost:8080/",
          "height": 142
        },
        "id": "7LnDhoH1GdQD",
        "outputId": "d18b9b92-6e6f-4d48-ab5b-1d73e59b1d44"
      },
      "execution_count": null,
      "outputs": [
        {
          "output_type": "display_data",
          "data": {
            "image/png": "[encoded data removed]",
            "text/plain": [
              "<PIL.Image.Image image mode=RGB size=95x125 at 0x7F74DB2F8B10>"
            ]
          },
          "metadata": {}
        }
      ]
    },
    {
      "cell_type": "code",
      "source": [
        "import numpy as np"
      ],
      "metadata": {
        "id": "DKt9oMu7N7xo"
      },
      "execution_count": null,
      "outputs": []
    },
    {
      "cell_type": "code",
      "source": [
        "#How to create a blank image\n",
        "blank=np.zeros((500,500,3),dtype='uint8')\n",
        "cv2_imshow(blank)"
      ],
      "metadata": {
        "colab": {
          "base_uri": "https://localhost:8080/",
          "height": 517
        },
        "id": "YVqsKIUoGu83",
        "outputId": "9b2af020-b09a-407c-e52e-a96f71076204"
      },
      "execution_count": null,
      "outputs": [
        {
          "output_type": "display_data",
          "data": {
            "image/png": "[encoded data removed]",
            "text/plain": [
              "<PIL.Image.Image image mode=RGB size=500x500 at 0x7F74D675A490>"
            ]
          },
          "metadata": {}
        }
      ]
    },
    {
      "cell_type": "code",
      "source": [
        "# Changing image to green\n",
        "blank[:]=0,255,0\n",
        "cv2_imshow(blank)"
      ],
      "metadata": {
        "colab": {
          "base_uri": "https://localhost:8080/",
          "height": 517
        },
        "id": "BuO71FH4N4VK",
        "outputId": "05e6c737-c37a-408f-f54f-e54f1a8b3c14"
      },
      "execution_count": null,
      "outputs": [
        {
          "output_type": "display_data",
          "data": {
            "image/png": "[encoded data removed]",
            "text/plain": [
              "<PIL.Image.Image image mode=RGB size=500x500 at 0x7F74D675A310>"
            ]
          },
          "metadata": {}
        }
      ]
    },
    {
      "cell_type": "code",
      "source": [
        "# Changing image to red\n",
        "blank[:]=0,0,255\n",
        "cv2_imshow(blank)"
      ],
      "metadata": {
        "colab": {
          "base_uri": "https://localhost:8080/",
          "height": 517
        },
        "id": "JHF1v2X1O6oC",
        "outputId": "1119f430-5b17-4369-9fb9-d9912381813b"
      },
      "execution_count": null,
      "outputs": [
        {
          "output_type": "display_data",
          "data": {
            "image/png": "[encoded data removed]",
            "text/plain": [
              "<PIL.Image.Image image mode=RGB size=500x500 at 0x7F74D683D990>"
            ]
          },
          "metadata": {}
        }
      ]
    },
    {
      "cell_type": "code",
      "source": [
        "# Changing image to blue\n",
        "blank[:]=255,0,0\n",
        "cv2_imshow(blank)"
      ],
      "metadata": {
        "colab": {
          "base_uri": "https://localhost:8080/",
          "height": 517
        },
        "id": "-tDUs-3oPYkt",
        "outputId": "8fd76c27-a6dd-43e3-ed43-2d65f775082c"
      },
      "execution_count": null,
      "outputs": [
        {
          "output_type": "display_data",
          "data": {
            "image/png": "[encoded data removed]",
            "text/plain": [
              "<PIL.Image.Image image mode=RGB size=500x500 at 0x7F74D688E8D0>"
            ]
          },
          "metadata": {}
        }
      ]
    },
    {
      "cell_type": "code",
      "source": [
        "#You can color certain range of pixel\n",
        "blank[200:300,300:400]=0,0,255\n",
        "cv2_imshow(blank)"
      ],
      "metadata": {
        "colab": {
          "base_uri": "https://localhost:8080/",
          "height": 517
        },
        "id": "E5M8DSiMPbmt",
        "outputId": "ed52b07e-ccbc-4118-ada4-96231357908e"
      },
      "execution_count": null,
      "outputs": [
        {
          "output_type": "display_data",
          "data": {
            "image/png": "[encoded data removed]",
            "text/plain": [
              "<PIL.Image.Image image mode=RGB size=500x500 at 0x7F74D67A89D0>"
            ]
          },
          "metadata": {}
        }
      ]
    },
    {
      "cell_type": "code",
      "source": [
        "# Changing image to blue\n",
        "blank[:]=255,0,0\n",
        "#cv2_imshow(blank)\n",
        "\n",
        "#Draw a reclangle\n",
        "cv2.rectangle(blank,(10,100),(400,400),(0,0,255),thickness=2)\n",
        "cv2_imshow(blank)"
      ],
      "metadata": {
        "colab": {
          "base_uri": "https://localhost:8080/",
          "height": 517
        },
        "id": "cp7jVhPaPwSD",
        "outputId": "9d7c679f-da31-4d66-b2f9-9c570684f111"
      },
      "execution_count": null,
      "outputs": [
        {
          "output_type": "display_data",
          "data": {
            "image/png": "[encoded data removed]",
            "text/plain": [
              "<PIL.Image.Image image mode=RGB size=500x500 at 0x7F74D67A8C50>"
            ]
          },
          "metadata": {}
        }
      ]
    },
    {
      "cell_type": "code",
      "source": [
        "#Filling complete rectangle\n",
        "#Draw a reclangle\n",
        "cv2.rectangle(blank,(10,100),(400,400),(0,0,255),thickness=cv2.FILLED)\n",
        "#cv2.rectangle(blank,(10,100),(400,400),(0,0,255),thickness=-1)\n",
        "cv2_imshow(blank)"
      ],
      "metadata": {
        "colab": {
          "base_uri": "https://localhost:8080/",
          "height": 517
        },
        "id": "wYZ2XuBfQRQO",
        "outputId": "e15b4db4-e13e-43dd-af3d-779f98664c7b"
      },
      "execution_count": null,
      "outputs": [
        {
          "output_type": "display_data",
          "data": {
            "image/png": "[encoded data removed]",
            "text/plain": [
              "<PIL.Image.Image image mode=RGB size=500x500 at 0x7F74D67A84D0>"
            ]
          },
          "metadata": {}
        }
      ]
    },
    {
      "cell_type": "markdown",
      "source": [
        "### Draw a circle"
      ],
      "metadata": {
        "id": "WpdPFG3BUnYh"
      }
    },
    {
      "cell_type": "code",
      "source": [
        "# Changing image to blue\n",
        "blank[:]=255,0,0\n",
        "\n",
        "cv2.circle(blank,(250,250),100,(0,255,0),thickness=2)\n",
        "cv2_imshow(blank)\n",
        "\n",
        "#To fill the circle\n",
        "#cv2.circle(blank,(250,250),100,(0,255,0),thickness=-1)"
      ],
      "metadata": {
        "colab": {
          "base_uri": "https://localhost:8080/",
          "height": 517
        },
        "id": "6BNBFW45Rxgj",
        "outputId": "27f72f23-e2fa-4edf-f703-ed6dd72f0af7"
      },
      "execution_count": null,
      "outputs": [
        {
          "output_type": "display_data",
          "data": {
            "image/png": "[encoded data removed]",
            "text/plain": [
              "<PIL.Image.Image image mode=RGB size=500x500 at 0x7F74D688EB90>"
            ]
          },
          "metadata": {}
        }
      ]
    },
    {
      "cell_type": "markdown",
      "source": [
        "### Draw a line"
      ],
      "metadata": {
        "id": "GZJC0xs7Vjw2"
      }
    },
    {
      "cell_type": "code",
      "source": [
        "# Changing image to blue\n",
        "blank[:]=255,0,0\n",
        "\n",
        "#Drawing a line\n",
        "cv2.line(blank,(10,100),(490,400),(0,255,0),thickness=5)\n",
        "cv2_imshow(blank)"
      ],
      "metadata": {
        "colab": {
          "base_uri": "https://localhost:8080/",
          "height": 517
        },
        "id": "Py9Taq6eVLe6",
        "outputId": "e793a7a3-a121-48a4-9a9b-2084b031bedd"
      },
      "execution_count": null,
      "outputs": [
        {
          "output_type": "display_data",
          "data": {
            "image/png": "[encoded data removed]",
            "text/plain": [
              "<PIL.Image.Image image mode=RGB size=500x500 at 0x7F74D67A8E90>"
            ]
          },
          "metadata": {}
        }
      ]
    },
    {
      "cell_type": "markdown",
      "source": [
        "### How to write text on an image"
      ],
      "metadata": {
        "id": "et9K3ntzXDZY"
      }
    },
    {
      "cell_type": "code",
      "source": [
        "# Changing image to blue\n",
        "blank[:]=255,0,0\n",
        "\n",
        "cv2.putText(blank,\"Hello Parth\",(200,300),cv2.FONT_HERSHEY_SIMPLEX,1.0,(0,255,0),thickness=2)\n",
        "cv2_imshow(blank)"
      ],
      "metadata": {
        "colab": {
          "base_uri": "https://localhost:8080/",
          "height": 517
        },
        "id": "JcCuWmVrXHP8",
        "outputId": "7724d61c-e83c-48ff-96b6-327859cdeb66"
      },
      "execution_count": null,
      "outputs": [
        {
          "output_type": "display_data",
          "data": {
            "image/png": "[encoded data removed]",
            "text/plain": [
              "<PIL.Image.Image image mode=RGB size=500x500 at 0x7F74D5CC6950>"
            ]
          },
          "metadata": {}
        }
      ]
    },
    {
      "cell_type": "code",
      "source": [
        ""
      ],
      "metadata": {
        "id": "-rdazeMwWuOF"
      },
      "execution_count": null,
      "outputs": []
    }
  ]
}