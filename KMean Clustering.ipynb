{
 "cells": [
  {
   "cell_type": "code",
   "execution_count": 32,
   "metadata": {},
   "outputs": [],
   "source": [
    "import pandas as pd \n",
    "import numpy as np\n",
    "customers_df=pd.read_csv(\"C:\\\\Users\\\\BHUMIKA\\\\Downloads\\\\customer_segmentation.csv\")"
   ]
  },
  {
   "cell_type": "code",
   "execution_count": 33,
   "metadata": {},
   "outputs": [],
   "source": [
    "customers_df=customers_df.drop(\"Address\",axis=1) #drop unecessary columns\n",
    "customers_df=customers_df.replace(np.NaN,0) #Replace null with o"
   ]
  },
  {
   "cell_type": "code",
   "execution_count": 34,
   "metadata": {},
   "outputs": [
    {
     "name": "stdout",
     "output_type": "stream",
     "text": [
      "Customer Id        0\n",
      "Age                0\n",
      "Edu                0\n",
      "Years Employed     0\n",
      "Income             0\n",
      "Card Debt          0\n",
      "Other Debt         0\n",
      "Defaulted          0\n",
      "DebtIncomeRatio    0\n",
      "dtype: int64\n"
     ]
    }
   ],
   "source": [
    "print(customers_df.isnull().sum()) #check if nul value is left"
   ]
  },
  {
   "cell_type": "code",
   "execution_count": 35,
   "metadata": {},
   "outputs": [],
   "source": [
    "from sklearn.preprocessing import StandardScaler\n",
    "customers_df_scale=StandardScaler().fit_transform(customers_df)"
   ]
  },
  {
   "cell_type": "code",
   "execution_count": 36,
   "metadata": {},
   "outputs": [],
   "source": [
    "from sklearn.cluster import KMeans"
   ]
  },
  {
   "cell_type": "code",
   "execution_count": 25,
   "metadata": {},
   "outputs": [],
   "source": [
    "kmeans=KMeans(init=\"k-means++\",n_clusters=3,n_init=10)"
   ]
  },
  {
   "cell_type": "code",
   "execution_count": 37,
   "metadata": {},
   "outputs": [
    {
     "name": "stdout",
     "output_type": "stream",
     "text": [
      "[1 0 2 1 0 0 1 1 1 0 2 1 1 1 2 1 1 1 0 1 1 1 2 0 0 1 1 1 1 1 1 0 2 1 1 1 2\n",
      " 2 1 0 2 0 1 0 1 0 1 1 1 1 0 0 2 1 2 2 2 1 1 1 0 1 0 0 1 1 1 2 1 2 1 1 1 1\n",
      " 1 1 1 1 0 1 1 2 0 1 0 1 1 1 2 2 1 1 2 2 1 1 1 1 2 1 2 0 1 2 2 0 1 1 1 1 1\n",
      " 1 1 2 1 1 1 1 0 1 1 1 1 1 1 1 1 1 1 1 1 1 1 1 1 1 1 1 1 2 2 1 1 1 0 1 1 2\n",
      " 1 1 1 0 2 1 1 1 1 0 2 2 1 0 1 1 1 1 1 1 1 1 0 1 1 2 1 2 1 1 2 0 2 1 1 0 2\n",
      " 0 1 1 1 1 1 0 1 2 1 1 1 0 0 1 0 1 2 1 1 2 1 0 1 2 1 1 1 1 1 2 2 0 1 1 2 0\n",
      " 1 1 1 1 0 1 1 2 1 1 1 1 0 1 1 2 0 1 1 1 1 1 1 0 1 0 1 1 1 1 1 1 0 2 1 2 1\n",
      " 1 1 0 1 2 0 2 1 0 1 1 2 1 1 1 1 2 2 2 1 1 1 0 1 1 0 1 0 1 1 0 1 1 1 2 1 1\n",
      " 2 1 2 0 1 1 1 1 2 1 1 2 2 1 1 1 1 1 1 1 1 2 1 2 0 1 2 1 1 1 2 2 1 1 1 0 2\n",
      " 1 1 2 1 0 1 1 1 1 1 2 0 1 1 1 1 1 0 1 1 1 1 1 0 1 1 1 0 2 1 2 1 1 1 0 0 1\n",
      " 2 1 0 2 2 1 1 1 2 1 1 1 1 1 0 1 0 1 1 1 1 2 1 2 1 1 1 0 1 1 1 1 2 1 1 2 2\n",
      " 0 1 1 1 1 1 2 2 1 0 2 0 1 1 2 1 1 0 0 1 2 1 1 0 1 2 1 0 1 1 1 0 1 1 1 1 0\n",
      " 1 2 1 1 1 1 0 2 1 1 0 1 2 1 1 0 1 0 1 1 1 1 1 1 1 0 0 1 1 0 1 2 1 1 1 2 1\n",
      " 2 1 1 1 1 1 0 2 2 1 0 1 0 1 1 2 0 1 2 2 2 0 0 2 1 1 2 1 2 2 1 2 0 1 1 2 1\n",
      " 2 0 2 1 1 2 1 1 2 2 2 1 1 1 0 0 1 1 2 1 1 2 0 1 2 1 1 1 2 1 0 1 0 0 1 0 1\n",
      " 1 0 1 2 1 1 1 1 2 2 1 0 1 0 1 1 0 1 2 1 2 1 2 2 2 0 2 1 1 1 2 1 1 1 0 1 0\n",
      " 1 2 2 1 1 1 1 1 1 1 2 0 1 0 1 1 2 1 1 1 2 1 1 2 2 2 2 1 0 1 2 2 1 1 1 1 0\n",
      " 0 1 2 1 1 0 1 1 0 1 0 1 1 0 2 0 0 0 2 1 1 2 1 0 0 1 1 1 0 2 1 1 1 1 0 1 1\n",
      " 1 1 1 2 1 1 0 1 1 0 1 1 1 1 1 1 2 0 1 1 2 1 1 1 1 2 1 0 1 1 0 1 1 2 1 2 1\n",
      " 2 2 1 1 1 0 2 0 1 0 0 1 2 1 0 1 0 1 1 1 1 1 0 1 2 1 1 0 0 1 1 0 1 1 1 1 1\n",
      " 1 1 1 2 1 1 0 1 1 1 1 1 1 1 2 1 1 1 0 2 0 0 1 1 1 2 1 1 1 2 2 1 2 1 1 1 0\n",
      " 1 1 1 1 1 1 1 0 1 1 1 1 1 1 0 0 2 2 1 2 1 1 1 1 0 2 1 1 1 1 1 0 2 1 1 1 2\n",
      " 1 1 2 1 1 1 1 1 1 2 2 0 0 1 1 1 2 1 1 1 1 1 1 1 1 1 1 1 1 1 1 1 1 2 1 0]\n"
     ]
    }
   ],
   "source": [
    "kmeans.fit(customers_df_scale)\n",
    "labels = kmeans.labels_\n",
    "print(labels)"
   ]
  },
  {
   "cell_type": "code",
   "execution_count": 39,
   "metadata": {},
   "outputs": [
    {
     "name": "stdout",
     "output_type": "stream",
     "text": [
      "   Customer Id  Age  Edu  Years Employed  Income  Card Debt  Other Debt  \\\n",
      "0            1   41    2               6      19      0.124       1.073   \n",
      "1            2   47    1              26     100      4.582       8.218   \n",
      "2            3   33    2              10      57      6.111       5.802   \n",
      "3            4   29    2               4      19      0.681       0.516   \n",
      "4            5   47    1              31     253      9.308       8.908   \n",
      "\n",
      "   Defaulted  DebtIncomeRatio  Group  \n",
      "0        0.0              6.3      1  \n",
      "1        0.0             12.8      0  \n",
      "2        1.0             20.9      2  \n",
      "3        0.0              6.3      1  \n",
      "4        0.0              7.2      0  \n"
     ]
    }
   ],
   "source": [
    "customers_df[\"Group\"]=labels\n",
    "print(customers_df.head())"
   ]
  },
  {
   "cell_type": "code",
   "execution_count": null,
   "metadata": {},
   "outputs": [],
   "source": []
  }
 ],
 "metadata": {
  "kernelspec": {
   "display_name": "Python 3",
   "language": "python",
   "name": "python3"
  },
  "language_info": {
   "codemirror_mode": {
    "name": "ipython",
    "version": 3
   },
   "file_extension": ".py",
   "mimetype": "text/x-python",
   "name": "python",
   "nbconvert_exporter": "python",
   "pygments_lexer": "ipython3",
   "version": "3.7.6"
  }
 },
 "nbformat": 4,
 "nbformat_minor": 4
}
