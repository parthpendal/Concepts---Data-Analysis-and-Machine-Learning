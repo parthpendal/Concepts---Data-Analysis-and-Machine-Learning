{
  "nbformat": 4,
  "nbformat_minor": 0,
  "metadata": {
    "colab": {
      "name": "Mean Confidence Interval.ipynb",
      "provenance": [],
      "authorship_tag": "ABX9TyM/fnuvsLepbeiX8YeEIf2b",
      "include_colab_link": true
    },
    "kernelspec": {
      "name": "python3",
      "display_name": "Python 3"
    },
    "language_info": {
      "name": "python"
    }
  },
  "cells": [
    {
      "cell_type": "markdown",
      "metadata": {
        "id": "view-in-github",
        "colab_type": "text"
      },
      "source": [
        "<a href=\"https://colab.research.google.com/github/parthpendal/Machine-Learning-Concepts/blob/main/Mean_Confidence_Interval.ipynb\" target=\"_parent\"><img src=\"https://colab.research.google.com/assets/colab-badge.svg\" alt=\"Open In Colab\"/></a>"
      ]
    },
    {
      "cell_type": "code",
      "metadata": {
        "id": "NcueQOQcyrtI"
      },
      "source": [
        "import pandas as pd\n",
        "\n",
        "df = pd.read_csv(\"Cartwheeldata.csv\")"
      ],
      "execution_count": null,
      "outputs": []
    },
    {
      "cell_type": "code",
      "metadata": {
        "id": "rz9nOEvxzfFB"
      },
      "source": [
        "mean = df[\"CWDistance\"].mean()\n",
        "sd = df[\"CWDistance\"].std()\n",
        "n = len(df)"
      ],
      "execution_count": null,
      "outputs": []
    },
    {
      "cell_type": "code",
      "metadata": {
        "id": "q-ojle1Izfw6"
      },
      "source": [
        "tstar = 2.064\n",
        "\n",
        "se = sd/np.sqrt(n)\n",
        "\n",
        "se"
      ],
      "execution_count": null,
      "outputs": []
    },
    {
      "cell_type": "code",
      "metadata": {
        "id": "-yUe4dO5ziKd"
      },
      "source": [
        "lcb = mean - tstar * se\n",
        "ucb = mean + tstar * se\n",
        "(lcb, ucb)"
      ],
      "execution_count": null,
      "outputs": []
    },
    {
      "cell_type": "code",
      "metadata": {
        "id": "FzknuS6Jzjgl"
      },
      "source": [
        "import statsmodels.api as sm\n",
        "sm.stats.DescrStatsW(df[\"CWDistance\"]).zconfint_mean()"
      ],
      "execution_count": null,
      "outputs": []
    }
  ]
}