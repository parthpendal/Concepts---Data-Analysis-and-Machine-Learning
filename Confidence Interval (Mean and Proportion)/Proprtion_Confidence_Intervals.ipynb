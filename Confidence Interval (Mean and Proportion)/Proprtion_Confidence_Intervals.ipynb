{
  "nbformat": 4,
  "nbformat_minor": 0,
  "metadata": {
    "colab": {
      "name": "Proprtion Confidence Intervals.ipynb",
      "provenance": [],
      "authorship_tag": "ABX9TyOs24b0geSVUrK1lV0yYV1C",
      "include_colab_link": true
    },
    "kernelspec": {
      "name": "python3",
      "display_name": "Python 3"
    },
    "language_info": {
      "name": "python"
    }
  },
  "cells": [
    {
      "cell_type": "markdown",
      "metadata": {
        "id": "view-in-github",
        "colab_type": "text"
      },
      "source": [
        "<a href=\"https://colab.research.google.com/github/parthpendal/Machine-Learning-Concepts/blob/main/Proprtion_Confidence_Intervals.ipynb\" target=\"_parent\"><img src=\"https://colab.research.google.com/assets/colab-badge.svg\" alt=\"Open In Colab\"/></a>"
      ]
    },
    {
      "cell_type": "markdown",
      "metadata": {
        "id": "qlyZnGjlsQt2"
      },
      "source": [
        "# Confidence intervals are a calculated range or boundary around a parameter or a statistic that is supported mathematically with a certain level of confidence. For example, in the lecture, we estimated, with 95% confidence, that the population proportion of parents with a toddler that use a car seat for all travel with their toddler was somewhere between 82.2% and 87.7%.\n",
        "\n",
        "# This is different than having a 95% probability that the true population proportion is within our confidence interval.\n",
        "\n",
        "# Essentially, if we were to repeat this process, 95% of our calculated confidence intervals would contain the true proportion."
      ]
    },
    {
      "cell_type": "code",
      "metadata": {
        "id": "6e0of8Frswuw"
      },
      "source": [
        "import numpy as np\n",
        "\n",
        "tstart=1.96\n",
        "p=0.85\n",
        "n=659"
      ],
      "execution_count": 2,
      "outputs": []
    },
    {
      "cell_type": "code",
      "metadata": {
        "colab": {
          "base_uri": "https://localhost:8080/"
        },
        "id": "hjaQ94OOtA8a",
        "outputId": "a8f051de-3400-4a4e-c208-c79b68942d78"
      },
      "source": [
        "se=np.sqrt((p*(1-p))/n)\n",
        "se"
      ],
      "execution_count": 3,
      "outputs": [
        {
          "output_type": "execute_result",
          "data": {
            "text/plain": [
              "0.01390952774409444"
            ]
          },
          "metadata": {},
          "execution_count": 3
        }
      ]
    },
    {
      "cell_type": "code",
      "metadata": {
        "colab": {
          "base_uri": "https://localhost:8080/"
        },
        "id": "sSMZmdJFtTlM",
        "outputId": "0fb6ff8a-a579-44a3-a708-a094c4026f43"
      },
      "source": [
        "lcb=p- tstart * se\n",
        "ucb=p+ tstart* se\n",
        "(lcb, ucb)"
      ],
      "execution_count": 4,
      "outputs": [
        {
          "output_type": "execute_result",
          "data": {
            "text/plain": [
              "(0.8227373256215749, 0.8772626743784251)"
            ]
          },
          "metadata": {},
          "execution_count": 4
        }
      ]
    },
    {
      "cell_type": "code",
      "metadata": {
        "colab": {
          "base_uri": "https://localhost:8080/"
        },
        "id": "lJ86mvbDtj5F",
        "outputId": "16595c36-3d49-4438-e369-7ec106b5233a"
      },
      "source": [
        "import statsmodels.api as sm\n",
        "sm.stats.proportion_confint(n * p, n)"
      ],
      "execution_count": 6,
      "outputs": [
        {
          "output_type": "stream",
          "name": "stderr",
          "text": [
            "/usr/local/lib/python3.7/dist-packages/statsmodels/tools/_testing.py:19: FutureWarning: pandas.util.testing is deprecated. Use the functions in the public API at pandas.testing instead.\n",
            "  import pandas.util.testing as tm\n"
          ]
        },
        {
          "output_type": "execute_result",
          "data": {
            "text/plain": [
              "(0.8227378265796143, 0.8772621734203857)"
            ]
          },
          "metadata": {},
          "execution_count": 6
        }
      ]
    },
    {
      "cell_type": "code",
      "metadata": {
        "id": "oNR_ayF1uBoT"
      },
      "source": [
        ""
      ],
      "execution_count": null,
      "outputs": []
    }
  ]
}